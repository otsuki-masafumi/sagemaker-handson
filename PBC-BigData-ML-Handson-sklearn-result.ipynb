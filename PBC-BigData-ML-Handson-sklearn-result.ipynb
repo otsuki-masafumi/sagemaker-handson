{
 "cells": [
  {
   "cell_type": "markdown",
   "metadata": {},
   "source": [
    "# PBC Bigdata/ML ハンズオン\n",
    "- S3上に配置したデータをAthenaを経由してSageMakerに取得する\n",
    "- SageMaker上でデータの可視化やデータ加工を行う\n",
    "- 広く利用されている機械学習ライブラリーである、Scikit-Learnを使ったモデル構築を試してみる\n",
    "- 構築したモデルをSageMakerの推論Endpointとしてデプロイし、推論APIを構築する"
   ]
  },
  {
   "cell_type": "markdown",
   "metadata": {},
   "source": [
    "# <font color=\"MediumSlateBlue\">1. データを理解する</font>"
   ]
  },
  {
   "cell_type": "code",
   "execution_count": 2,
   "metadata": {
    "collapsed": true
   },
   "outputs": [
    {
     "name": "stdout",
     "output_type": "stream",
     "text": [
      "Collecting awswrangler\n",
      "\u001b[?25l  Downloading https://files.pythonhosted.org/packages/e9/99/b3ba9811e1a5f346da484f2dff40924613ec481df5d463e30bc3fd71096e/awswrangler-0.3.2.tar.gz (61kB)\n",
      "\u001b[K    100% |████████████████████████████████| 71kB 27.7MB/s ta 0:00:01\n",
      "\u001b[?25hCollecting numpy~=1.18.1 (from awswrangler)\n",
      "\u001b[?25l  Downloading https://files.pythonhosted.org/packages/62/20/4d43e141b5bc426ba38274933ef8e76e85c7adea2c321ecf9ebf7421cedf/numpy-1.18.1-cp36-cp36m-manylinux1_x86_64.whl (20.1MB)\n",
      "\u001b[K    100% |████████████████████████████████| 20.2MB 2.4MB/s eta 0:00:01\n",
      "\u001b[?25hCollecting pandas~=1.0.1 (from awswrangler)\n",
      "\u001b[?25l  Downloading https://files.pythonhosted.org/packages/08/ec/b5dd8cfb078380fb5ae9325771146bccd4e8cad2d3e4c72c7433010684eb/pandas-1.0.1-cp36-cp36m-manylinux1_x86_64.whl (10.1MB)\n",
      "\u001b[K    100% |████████████████████████████████| 10.1MB 6.1MB/s eta 0:00:01\n",
      "\u001b[?25hCollecting pyarrow~=0.16.0 (from awswrangler)\n",
      "\u001b[?25l  Downloading https://files.pythonhosted.org/packages/ba/10/93fad5849418eade4a4cd581f8cd27be1bbe51e18968ba1492140c887f3f/pyarrow-0.16.0-cp36-cp36m-manylinux1_x86_64.whl (62.9MB)\n",
      "\u001b[K    100% |████████████████████████████████| 62.9MB 788kB/s eta 0:00:01\n",
      "\u001b[?25hRequirement already satisfied: botocore>=1.13.34 in /home/ec2-user/anaconda3/envs/python3/lib/python3.6/site-packages (from awswrangler) (1.14.14)\n",
      "Requirement already satisfied: boto3>=1.10.34 in /home/ec2-user/anaconda3/envs/python3/lib/python3.6/site-packages (from awswrangler) (1.11.14)\n",
      "Collecting s3fs~=0.4.0 (from awswrangler)\n",
      "  Downloading https://files.pythonhosted.org/packages/72/5c/ec84c7ec49fde2c3b0d885ecae4504fa40fc77fef7684e9f2939c50f9b94/s3fs-0.4.0-py3-none-any.whl\n",
      "Collecting tenacity~=6.0.0 (from awswrangler)\n",
      "  Downloading https://files.pythonhosted.org/packages/bf/d4/8cab4b5239ddb62d950243abff9e88046bb61737ce3eee8694b3d748560c/tenacity-6.0.0-py2.py3-none-any.whl\n",
      "Collecting pg8000~=1.13.2 (from awswrangler)\n",
      "  Downloading https://files.pythonhosted.org/packages/16/32/ae895597e43bc968e0e3e63860e9932b851115457face0d06d7f451b71fc/pg8000-1.13.2-py3-none-any.whl\n",
      "Collecting pymysql~=0.9.3 (from awswrangler)\n",
      "\u001b[?25l  Downloading https://files.pythonhosted.org/packages/ed/39/15045ae46f2a123019aa968dfcba0396c161c20f855f11dea6796bcaae95/PyMySQL-0.9.3-py2.py3-none-any.whl (47kB)\n",
      "\u001b[K    100% |████████████████████████████████| 51kB 15.0MB/s ta 0:00:01\n",
      "\u001b[?25hRequirement already satisfied: pytz>=2017.2 in /home/ec2-user/anaconda3/envs/python3/lib/python3.6/site-packages (from pandas~=1.0.1->awswrangler) (2018.4)\n",
      "Requirement already satisfied: python-dateutil>=2.6.1 in /home/ec2-user/anaconda3/envs/python3/lib/python3.6/site-packages (from pandas~=1.0.1->awswrangler) (2.7.3)\n",
      "Requirement already satisfied: six>=1.0.0 in /home/ec2-user/anaconda3/envs/python3/lib/python3.6/site-packages (from pyarrow~=0.16.0->awswrangler) (1.11.0)\n",
      "Requirement already satisfied: docutils<0.16,>=0.10 in /home/ec2-user/anaconda3/envs/python3/lib/python3.6/site-packages (from botocore>=1.13.34->awswrangler) (0.14)\n",
      "Requirement already satisfied: urllib3<1.26,>=1.20; python_version != \"3.4\" in /home/ec2-user/anaconda3/envs/python3/lib/python3.6/site-packages (from botocore>=1.13.34->awswrangler) (1.23)\n",
      "Requirement already satisfied: jmespath<1.0.0,>=0.7.1 in /home/ec2-user/anaconda3/envs/python3/lib/python3.6/site-packages (from botocore>=1.13.34->awswrangler) (0.9.4)\n",
      "Requirement already satisfied: s3transfer<0.4.0,>=0.3.0 in /home/ec2-user/anaconda3/envs/python3/lib/python3.6/site-packages (from boto3>=1.10.34->awswrangler) (0.3.3)\n",
      "Collecting fsspec>=0.6.0 (from s3fs~=0.4.0->awswrangler)\n",
      "\u001b[?25l  Downloading https://files.pythonhosted.org/packages/dd/1f/7028dacd3c28f34ce48130aae73a88fa5cc27b6b0e494fcf2739f7954d9d/fsspec-0.6.2-py3-none-any.whl (62kB)\n",
      "\u001b[K    100% |████████████████████████████████| 71kB 29.9MB/s ta 0:00:01\n",
      "\u001b[?25hCollecting scramp==1.1.0 (from pg8000~=1.13.2->awswrangler)\n",
      "  Downloading https://files.pythonhosted.org/packages/bb/ef/6bdba6756ba7ccb81187833504ebba0511af750a2d9beaa04e4b56c3974f/scramp-1.1.0-py3-none-any.whl\n",
      "Building wheels for collected packages: awswrangler\n",
      "  Running setup.py bdist_wheel for awswrangler ... \u001b[?25ldone\n",
      "\u001b[?25h  Stored in directory: /home/ec2-user/.cache/pip/wheels/13/1a/52/966931a7453271ead15b0df3ea440e2f435d453cab8f6e99e3\n",
      "Successfully built awswrangler\n",
      "Installing collected packages: numpy, pandas, pyarrow, fsspec, s3fs, tenacity, scramp, pg8000, pymysql, awswrangler\n",
      "  Found existing installation: numpy 1.14.3\n",
      "    Uninstalling numpy-1.14.3:\n",
      "      Successfully uninstalled numpy-1.14.3\n",
      "  Found existing installation: pandas 0.24.2\n",
      "    Uninstalling pandas-0.24.2:\n",
      "      Successfully uninstalled pandas-0.24.2\n",
      "  Found existing installation: s3fs 0.1.5\n",
      "    Uninstalling s3fs-0.1.5:\n",
      "      Successfully uninstalled s3fs-0.1.5\n",
      "Successfully installed awswrangler-0.3.2 fsspec-0.6.2 numpy-1.18.1 pandas-1.0.1 pg8000-1.13.2 pyarrow-0.16.0 pymysql-0.9.3 s3fs-0.4.0 scramp-1.1.0 tenacity-6.0.0\n",
      "\u001b[33mYou are using pip version 10.0.1, however version 20.0.2 is available.\n",
      "You should consider upgrading via the 'pip install --upgrade pip' command.\u001b[0m\n"
     ]
    }
   ],
   "source": [
    "!pip install awswrangler"
   ]
  },
  {
   "cell_type": "code",
   "execution_count": 3,
   "metadata": {},
   "outputs": [],
   "source": [
    "import awswrangler\n",
    "import pandas as pd\n",
    "import numpy as np\n",
    "\n",
    "%matplotlib inline\n",
    "pd.set_option('display.max_rows', 2000)"
   ]
  },
  {
   "cell_type": "code",
   "execution_count": 4,
   "metadata": {},
   "outputs": [
    {
     "data": {
      "text/html": [
       "<div>\n",
       "<style scoped>\n",
       "    .dataframe tbody tr th:only-of-type {\n",
       "        vertical-align: middle;\n",
       "    }\n",
       "\n",
       "    .dataframe tbody tr th {\n",
       "        vertical-align: top;\n",
       "    }\n",
       "\n",
       "    .dataframe thead th {\n",
       "        text-align: right;\n",
       "    }\n",
       "</style>\n",
       "<table border=\"1\" class=\"dataframe\">\n",
       "  <thead>\n",
       "    <tr style=\"text-align: right;\">\n",
       "      <th></th>\n",
       "      <th>json_sales_count</th>\n",
       "    </tr>\n",
       "  </thead>\n",
       "  <tbody>\n",
       "    <tr>\n",
       "      <th>0</th>\n",
       "      <td>147287722</td>\n",
       "    </tr>\n",
       "  </tbody>\n",
       "</table>\n",
       "</div>"
      ],
      "text/plain": [
       "   json_sales_count\n",
       "0         147287722"
      ]
     },
     "execution_count": 4,
     "metadata": {},
     "output_type": "execute_result"
    }
   ],
   "source": [
    "# Python上からAthenaを操作するために便利なライブラリー AWS Data Wranglerを利用する\n",
    "session = awswrangler.Session()\n",
    "\n",
    "# S3に格納されたjson_salesの件数を確認する\n",
    "# この関数はPandas DataFrameを戻すが、表示させるだけの場合は変数に格納する必要はない\n",
    "session.pandas.read_sql_athena(\n",
    "    sql=\"select count(*) as json_sales_count from json_sales\",\n",
    "    database=\"workshop\"\n",
    ")"
   ]
  },
  {
   "cell_type": "code",
   "execution_count": 5,
   "metadata": {},
   "outputs": [
    {
     "data": {
      "text/html": [
       "<div>\n",
       "<style scoped>\n",
       "    .dataframe tbody tr th:only-of-type {\n",
       "        vertical-align: middle;\n",
       "    }\n",
       "\n",
       "    .dataframe tbody tr th {\n",
       "        vertical-align: top;\n",
       "    }\n",
       "\n",
       "    .dataframe thead th {\n",
       "        text-align: right;\n",
       "    }\n",
       "</style>\n",
       "<table border=\"1\" class=\"dataframe\">\n",
       "  <thead>\n",
       "    <tr style=\"text-align: right;\">\n",
       "      <th></th>\n",
       "      <th>prod_id</th>\n",
       "      <th>cust_id</th>\n",
       "      <th>time_id</th>\n",
       "      <th>channel_id</th>\n",
       "      <th>promo_id</th>\n",
       "      <th>quantity_sold</th>\n",
       "      <th>seller</th>\n",
       "      <th>fulfillment_center</th>\n",
       "      <th>courier_org</th>\n",
       "      <th>tax_country</th>\n",
       "      <th>tax_region</th>\n",
       "      <th>amount_sold</th>\n",
       "    </tr>\n",
       "  </thead>\n",
       "  <tbody>\n",
       "    <tr>\n",
       "      <th>0</th>\n",
       "      <td>59</td>\n",
       "      <td>14809298</td>\n",
       "      <td>1995-01-01 00:00:00</td>\n",
       "      <td>4</td>\n",
       "      <td>348</td>\n",
       "      <td>31.0</td>\n",
       "      <td>10596</td>\n",
       "      <td>13036</td>\n",
       "      <td>1530</td>\n",
       "      <td>XJ</td>\n",
       "      <td>&lt;NA&gt;</td>\n",
       "      <td>48.0</td>\n",
       "    </tr>\n",
       "    <tr>\n",
       "      <th>1</th>\n",
       "      <td>128</td>\n",
       "      <td>12309724</td>\n",
       "      <td>1995-01-01 00:00:00</td>\n",
       "      <td>9</td>\n",
       "      <td>130</td>\n",
       "      <td>47.0</td>\n",
       "      <td>10903</td>\n",
       "      <td>14266</td>\n",
       "      <td>1087</td>\n",
       "      <td>GY</td>\n",
       "      <td>SW</td>\n",
       "      <td>79.0</td>\n",
       "    </tr>\n",
       "    <tr>\n",
       "      <th>2</th>\n",
       "      <td>112</td>\n",
       "      <td>5686925</td>\n",
       "      <td>1995-01-01 00:00:00</td>\n",
       "      <td>3</td>\n",
       "      <td>126</td>\n",
       "      <td>4.0</td>\n",
       "      <td>10575</td>\n",
       "      <td>14045</td>\n",
       "      <td>1535</td>\n",
       "      <td>YD</td>\n",
       "      <td>TG</td>\n",
       "      <td>82.0</td>\n",
       "    </tr>\n",
       "    <tr>\n",
       "      <th>3</th>\n",
       "      <td>117</td>\n",
       "      <td>12976874</td>\n",
       "      <td>1995-01-01 00:00:00</td>\n",
       "      <td>3</td>\n",
       "      <td>406</td>\n",
       "      <td>8.0</td>\n",
       "      <td>10770</td>\n",
       "      <td>13892</td>\n",
       "      <td>1041</td>\n",
       "      <td>GF</td>\n",
       "      <td>AZ</td>\n",
       "      <td>39.0</td>\n",
       "    </tr>\n",
       "    <tr>\n",
       "      <th>4</th>\n",
       "      <td>26</td>\n",
       "      <td>72065</td>\n",
       "      <td>1995-01-01 00:00:00</td>\n",
       "      <td>5</td>\n",
       "      <td>452</td>\n",
       "      <td>67.0</td>\n",
       "      <td>10294</td>\n",
       "      <td>13066</td>\n",
       "      <td>1053</td>\n",
       "      <td>XP</td>\n",
       "      <td>KF</td>\n",
       "      <td>60.0</td>\n",
       "    </tr>\n",
       "  </tbody>\n",
       "</table>\n",
       "</div>"
      ],
      "text/plain": [
       "   prod_id   cust_id              time_id  channel_id  promo_id  \\\n",
       "0       59  14809298  1995-01-01 00:00:00           4       348   \n",
       "1      128  12309724  1995-01-01 00:00:00           9       130   \n",
       "2      112   5686925  1995-01-01 00:00:00           3       126   \n",
       "3      117  12976874  1995-01-01 00:00:00           3       406   \n",
       "4       26     72065  1995-01-01 00:00:00           5       452   \n",
       "\n",
       "   quantity_sold  seller  fulfillment_center  courier_org tax_country  \\\n",
       "0           31.0   10596               13036         1530          XJ   \n",
       "1           47.0   10903               14266         1087          GY   \n",
       "2            4.0   10575               14045         1535          YD   \n",
       "3            8.0   10770               13892         1041          GF   \n",
       "4           67.0   10294               13066         1053          XP   \n",
       "\n",
       "  tax_region  amount_sold  \n",
       "0       <NA>         48.0  \n",
       "1         SW         79.0  \n",
       "2         TG         82.0  \n",
       "3         AZ         39.0  \n",
       "4         KF         60.0  "
      ]
     },
     "execution_count": 5,
     "metadata": {},
     "output_type": "execute_result"
    }
   ],
   "source": [
    "# 少量のデータを取得してJupyter上で見てみる\n",
    "session.pandas.read_sql_athena(\n",
    "    sql=\"select * from json_sales where prod_id is not null limit 5\",\n",
    "    database=\"workshop\"\n",
    ")"
   ]
  },
  {
   "cell_type": "code",
   "execution_count": 6,
   "metadata": {},
   "outputs": [
    {
     "name": "stdout",
     "output_type": "stream",
     "text": [
      "取得したデータの件数（日数）: 6919\n"
     ]
    }
   ],
   "source": [
    "# 後続処理で利用するデータは変数に格納する\n",
    "# ここでは全期間のamaount_soldを日ごとに合計する処理をAthenaで行い、サマリーした結果をJupyter上で保持する\n",
    "df_sales_daily = session.pandas.read_sql_athena(\n",
    "    sql=\"select time_id, sum(amount_sold) as daily_sum from json_sales \\\n",
    "         where prod_id is not null \\\n",
    "         group by time_id order by time_id\",\n",
    "    database=\"workshop\"\n",
    ")\n",
    "print('取得したデータの件数（日数）: {}'.format(df_sales_daily.shape[0]))"
   ]
  },
  {
   "cell_type": "code",
   "execution_count": 7,
   "metadata": {},
   "outputs": [
    {
     "data": {
      "text/html": [
       "<div>\n",
       "<style scoped>\n",
       "    .dataframe tbody tr th:only-of-type {\n",
       "        vertical-align: middle;\n",
       "    }\n",
       "\n",
       "    .dataframe tbody tr th {\n",
       "        vertical-align: top;\n",
       "    }\n",
       "\n",
       "    .dataframe thead th {\n",
       "        text-align: right;\n",
       "    }\n",
       "</style>\n",
       "<table border=\"1\" class=\"dataframe\">\n",
       "  <thead>\n",
       "    <tr style=\"text-align: right;\">\n",
       "      <th></th>\n",
       "      <th>time_id</th>\n",
       "      <th>daily_sum</th>\n",
       "    </tr>\n",
       "  </thead>\n",
       "  <tbody>\n",
       "    <tr>\n",
       "      <th>0</th>\n",
       "      <td>1995-01-01 00:00:00</td>\n",
       "      <td>178490.0</td>\n",
       "    </tr>\n",
       "    <tr>\n",
       "      <th>1</th>\n",
       "      <td>1995-01-02 00:00:00</td>\n",
       "      <td>178516.0</td>\n",
       "    </tr>\n",
       "    <tr>\n",
       "      <th>2</th>\n",
       "      <td>1995-01-03 00:00:00</td>\n",
       "      <td>179277.0</td>\n",
       "    </tr>\n",
       "    <tr>\n",
       "      <th>3</th>\n",
       "      <td>1995-01-04 00:00:00</td>\n",
       "      <td>179204.0</td>\n",
       "    </tr>\n",
       "    <tr>\n",
       "      <th>4</th>\n",
       "      <td>1995-01-05 00:00:00</td>\n",
       "      <td>174441.0</td>\n",
       "    </tr>\n",
       "  </tbody>\n",
       "</table>\n",
       "</div>"
      ],
      "text/plain": [
       "               time_id  daily_sum\n",
       "0  1995-01-01 00:00:00   178490.0\n",
       "1  1995-01-02 00:00:00   178516.0\n",
       "2  1995-01-03 00:00:00   179277.0\n",
       "3  1995-01-04 00:00:00   179204.0\n",
       "4  1995-01-05 00:00:00   174441.0"
      ]
     },
     "execution_count": 7,
     "metadata": {},
     "output_type": "execute_result"
    }
   ],
   "source": [
    "df_sales_daily.head(5)"
   ]
  },
  {
   "cell_type": "code",
   "execution_count": 8,
   "metadata": {
    "scrolled": false
   },
   "outputs": [
    {
     "data": {
      "text/plain": [
       "<matplotlib.axes._subplots.AxesSubplot at 0x7f50f22fc710>"
      ]
     },
     "execution_count": 8,
     "metadata": {},
     "output_type": "execute_result"
    },
    {
     "data": {
      "image/png": "[encoded data removed]",
      "text/plain": [
       "<Figure size 864x360 with 1 Axes>"
      ]
     },
     "metadata": {},
     "output_type": "display_data"
    }
   ],
   "source": [
    "# 月単位の売り上げを集計してグラフ化する\n",
    "df_sales_daily['time_id'] = pd.to_datetime(df_sales_daily.time_id)\n",
    "df_sales_daily.set_index('time_id', inplace=True)\n",
    "df_sales_monthly = df_sales_daily.resample('M').sum()\n",
    "\n",
    "df_sales_monthly.rename(columns={'daily_sum':'monthly_sum'}, inplace=True)\n",
    "df_sales_monthly.plot(figsize=(12,5))"
   ]
  },
  {
   "cell_type": "markdown",
   "metadata": {},
   "source": [
    "#  <font color=\"MediumSlateBlue\">2. データを加工する</font>"
   ]
  },
  {
   "cell_type": "code",
   "execution_count": 9,
   "metadata": {
    "scrolled": true
   },
   "outputs": [
    {
     "data": {
      "text/html": [
       "<div>\n",
       "<style scoped>\n",
       "    .dataframe tbody tr th:only-of-type {\n",
       "        vertical-align: middle;\n",
       "    }\n",
       "\n",
       "    .dataframe tbody tr th {\n",
       "        vertical-align: top;\n",
       "    }\n",
       "\n",
       "    .dataframe thead th {\n",
       "        text-align: right;\n",
       "    }\n",
       "</style>\n",
       "<table border=\"1\" class=\"dataframe\">\n",
       "  <thead>\n",
       "    <tr style=\"text-align: right;\">\n",
       "      <th></th>\n",
       "      <th>monthly_sum</th>\n",
       "      <th>1month_ago</th>\n",
       "      <th>2month_ago</th>\n",
       "      <th>3month_ago</th>\n",
       "      <th>12month_ago</th>\n",
       "    </tr>\n",
       "    <tr>\n",
       "      <th>time_id</th>\n",
       "      <th></th>\n",
       "      <th></th>\n",
       "      <th></th>\n",
       "      <th></th>\n",
       "      <th></th>\n",
       "    </tr>\n",
       "  </thead>\n",
       "  <tbody>\n",
       "    <tr>\n",
       "      <th>2007-01-31</th>\n",
       "      <td>30.566316</td>\n",
       "      <td>NaN</td>\n",
       "      <td>NaN</td>\n",
       "      <td>NaN</td>\n",
       "      <td>NaN</td>\n",
       "    </tr>\n",
       "    <tr>\n",
       "      <th>2007-02-28</th>\n",
       "      <td>27.603369</td>\n",
       "      <td>30.566316</td>\n",
       "      <td>NaN</td>\n",
       "      <td>NaN</td>\n",
       "      <td>NaN</td>\n",
       "    </tr>\n",
       "    <tr>\n",
       "      <th>2007-03-31</th>\n",
       "      <td>29.601840</td>\n",
       "      <td>27.603369</td>\n",
       "      <td>30.566316</td>\n",
       "      <td>NaN</td>\n",
       "      <td>NaN</td>\n",
       "    </tr>\n",
       "    <tr>\n",
       "      <th>2007-04-30</th>\n",
       "      <td>29.738025</td>\n",
       "      <td>29.601840</td>\n",
       "      <td>27.603369</td>\n",
       "      <td>30.566316</td>\n",
       "      <td>NaN</td>\n",
       "    </tr>\n",
       "    <tr>\n",
       "      <th>2007-05-31</th>\n",
       "      <td>30.728862</td>\n",
       "      <td>29.738025</td>\n",
       "      <td>29.601840</td>\n",
       "      <td>27.603369</td>\n",
       "      <td>NaN</td>\n",
       "    </tr>\n",
       "    <tr>\n",
       "      <th>2007-06-30</th>\n",
       "      <td>28.790252</td>\n",
       "      <td>30.728862</td>\n",
       "      <td>29.738025</td>\n",
       "      <td>29.601840</td>\n",
       "      <td>NaN</td>\n",
       "    </tr>\n",
       "    <tr>\n",
       "      <th>2007-07-31</th>\n",
       "      <td>33.200844</td>\n",
       "      <td>28.790252</td>\n",
       "      <td>30.728862</td>\n",
       "      <td>29.738025</td>\n",
       "      <td>NaN</td>\n",
       "    </tr>\n",
       "    <tr>\n",
       "      <th>2007-08-31</th>\n",
       "      <td>33.164400</td>\n",
       "      <td>33.200844</td>\n",
       "      <td>28.790252</td>\n",
       "      <td>30.728862</td>\n",
       "      <td>NaN</td>\n",
       "    </tr>\n",
       "    <tr>\n",
       "      <th>2007-09-30</th>\n",
       "      <td>31.152977</td>\n",
       "      <td>33.164400</td>\n",
       "      <td>33.200844</td>\n",
       "      <td>28.790252</td>\n",
       "      <td>NaN</td>\n",
       "    </tr>\n",
       "    <tr>\n",
       "      <th>2007-10-31</th>\n",
       "      <td>38.419859</td>\n",
       "      <td>31.152977</td>\n",
       "      <td>33.164400</td>\n",
       "      <td>33.200844</td>\n",
       "      <td>NaN</td>\n",
       "    </tr>\n",
       "    <tr>\n",
       "      <th>2007-11-30</th>\n",
       "      <td>37.171597</td>\n",
       "      <td>38.419859</td>\n",
       "      <td>31.152977</td>\n",
       "      <td>33.164400</td>\n",
       "      <td>NaN</td>\n",
       "    </tr>\n",
       "    <tr>\n",
       "      <th>2007-12-31</th>\n",
       "      <td>37.161129</td>\n",
       "      <td>37.171597</td>\n",
       "      <td>38.419859</td>\n",
       "      <td>31.152977</td>\n",
       "      <td>NaN</td>\n",
       "    </tr>\n",
       "    <tr>\n",
       "      <th>2008-01-31</th>\n",
       "      <td>35.147742</td>\n",
       "      <td>37.161129</td>\n",
       "      <td>37.171597</td>\n",
       "      <td>38.419859</td>\n",
       "      <td>30.566316</td>\n",
       "    </tr>\n",
       "    <tr>\n",
       "      <th>2008-02-29</th>\n",
       "      <td>32.977107</td>\n",
       "      <td>35.147742</td>\n",
       "      <td>37.161129</td>\n",
       "      <td>37.171597</td>\n",
       "      <td>27.603369</td>\n",
       "    </tr>\n",
       "    <tr>\n",
       "      <th>2008-03-31</th>\n",
       "      <td>34.076646</td>\n",
       "      <td>32.977107</td>\n",
       "      <td>35.147742</td>\n",
       "      <td>37.161129</td>\n",
       "      <td>29.601840</td>\n",
       "    </tr>\n",
       "    <tr>\n",
       "      <th>2008-04-30</th>\n",
       "      <td>43.029820</td>\n",
       "      <td>34.076646</td>\n",
       "      <td>32.977107</td>\n",
       "      <td>35.147742</td>\n",
       "      <td>29.738025</td>\n",
       "    </tr>\n",
       "    <tr>\n",
       "      <th>2008-05-31</th>\n",
       "      <td>44.545075</td>\n",
       "      <td>43.029820</td>\n",
       "      <td>34.076646</td>\n",
       "      <td>32.977107</td>\n",
       "      <td>30.728862</td>\n",
       "    </tr>\n",
       "    <tr>\n",
       "      <th>2008-06-30</th>\n",
       "      <td>41.754398</td>\n",
       "      <td>44.545075</td>\n",
       "      <td>43.029820</td>\n",
       "      <td>34.076646</td>\n",
       "      <td>28.790252</td>\n",
       "    </tr>\n",
       "    <tr>\n",
       "      <th>2008-07-31</th>\n",
       "      <td>48.813762</td>\n",
       "      <td>41.754398</td>\n",
       "      <td>44.545075</td>\n",
       "      <td>43.029820</td>\n",
       "      <td>33.200844</td>\n",
       "    </tr>\n",
       "    <tr>\n",
       "      <th>2008-08-31</th>\n",
       "      <td>48.961442</td>\n",
       "      <td>48.813762</td>\n",
       "      <td>41.754398</td>\n",
       "      <td>44.545075</td>\n",
       "      <td>33.164400</td>\n",
       "    </tr>\n",
       "  </tbody>\n",
       "</table>\n",
       "</div>"
      ],
      "text/plain": [
       "            monthly_sum  1month_ago  2month_ago  3month_ago  12month_ago\n",
       "time_id                                                                 \n",
       "2007-01-31    30.566316         NaN         NaN         NaN          NaN\n",
       "2007-02-28    27.603369   30.566316         NaN         NaN          NaN\n",
       "2007-03-31    29.601840   27.603369   30.566316         NaN          NaN\n",
       "2007-04-30    29.738025   29.601840   27.603369   30.566316          NaN\n",
       "2007-05-31    30.728862   29.738025   29.601840   27.603369          NaN\n",
       "2007-06-30    28.790252   30.728862   29.738025   29.601840          NaN\n",
       "2007-07-31    33.200844   28.790252   30.728862   29.738025          NaN\n",
       "2007-08-31    33.164400   33.200844   28.790252   30.728862          NaN\n",
       "2007-09-30    31.152977   33.164400   33.200844   28.790252          NaN\n",
       "2007-10-31    38.419859   31.152977   33.164400   33.200844          NaN\n",
       "2007-11-30    37.171597   38.419859   31.152977   33.164400          NaN\n",
       "2007-12-31    37.161129   37.171597   38.419859   31.152977          NaN\n",
       "2008-01-31    35.147742   37.161129   37.171597   38.419859    30.566316\n",
       "2008-02-29    32.977107   35.147742   37.161129   37.171597    27.603369\n",
       "2008-03-31    34.076646   32.977107   35.147742   37.161129    29.601840\n",
       "2008-04-30    43.029820   34.076646   32.977107   35.147742    29.738025\n",
       "2008-05-31    44.545075   43.029820   34.076646   32.977107    30.728862\n",
       "2008-06-30    41.754398   44.545075   43.029820   34.076646    28.790252\n",
       "2008-07-31    48.813762   41.754398   44.545075   43.029820    33.200844\n",
       "2008-08-31    48.961442   48.813762   41.754398   44.545075    33.164400"
      ]
     },
     "execution_count": 9,
     "metadata": {},
     "output_type": "execute_result"
    }
   ],
   "source": [
    "# 過去の実績値の推移を入力データにするため、1ヶ月前、2ヶ月前、3ヶ月前、12ヶ月前の実績値を取得する\n",
    "df_data = df_sales_monthly['2007-01-01':].copy()\n",
    "df_data['monthly_sum'] = df_data.monthly_sum / 1000000\n",
    "df_data['1month_ago'] = df_data.monthly_sum.shift(1)\n",
    "df_data['2month_ago'] = df_data.monthly_sum.shift(2)\n",
    "df_data['3month_ago'] = df_data.monthly_sum.shift(3)\n",
    "df_data['12month_ago'] = df_data.monthly_sum.shift(12)\n",
    "\n",
    "# 過去のデータをシフトしているため、期間の開始から12レコード分は欠損値が発生する\n",
    "df_data.head(20)"
   ]
  },
  {
   "cell_type": "code",
   "execution_count": 10,
   "metadata": {},
   "outputs": [
    {
     "data": {
      "text/html": [
       "<div>\n",
       "<style scoped>\n",
       "    .dataframe tbody tr th:only-of-type {\n",
       "        vertical-align: middle;\n",
       "    }\n",
       "\n",
       "    .dataframe tbody tr th {\n",
       "        vertical-align: top;\n",
       "    }\n",
       "\n",
       "    .dataframe thead th {\n",
       "        text-align: right;\n",
       "    }\n",
       "</style>\n",
       "<table border=\"1\" class=\"dataframe\">\n",
       "  <thead>\n",
       "    <tr style=\"text-align: right;\">\n",
       "      <th></th>\n",
       "      <th>monthly_sum</th>\n",
       "      <th>1month_ago</th>\n",
       "      <th>2month_ago</th>\n",
       "      <th>3month_ago</th>\n",
       "      <th>12month_ago</th>\n",
       "    </tr>\n",
       "    <tr>\n",
       "      <th>time_id</th>\n",
       "      <th></th>\n",
       "      <th></th>\n",
       "      <th></th>\n",
       "      <th></th>\n",
       "      <th></th>\n",
       "    </tr>\n",
       "  </thead>\n",
       "  <tbody>\n",
       "    <tr>\n",
       "      <th>2008-01-31</th>\n",
       "      <td>35.147742</td>\n",
       "      <td>37.161129</td>\n",
       "      <td>37.171597</td>\n",
       "      <td>38.419859</td>\n",
       "      <td>30.566316</td>\n",
       "    </tr>\n",
       "    <tr>\n",
       "      <th>2008-02-29</th>\n",
       "      <td>32.977107</td>\n",
       "      <td>35.147742</td>\n",
       "      <td>37.161129</td>\n",
       "      <td>37.171597</td>\n",
       "      <td>27.603369</td>\n",
       "    </tr>\n",
       "    <tr>\n",
       "      <th>2008-03-31</th>\n",
       "      <td>34.076646</td>\n",
       "      <td>32.977107</td>\n",
       "      <td>35.147742</td>\n",
       "      <td>37.161129</td>\n",
       "      <td>29.601840</td>\n",
       "    </tr>\n",
       "    <tr>\n",
       "      <th>2008-04-30</th>\n",
       "      <td>43.029820</td>\n",
       "      <td>34.076646</td>\n",
       "      <td>32.977107</td>\n",
       "      <td>35.147742</td>\n",
       "      <td>29.738025</td>\n",
       "    </tr>\n",
       "    <tr>\n",
       "      <th>2008-05-31</th>\n",
       "      <td>44.545075</td>\n",
       "      <td>43.029820</td>\n",
       "      <td>34.076646</td>\n",
       "      <td>32.977107</td>\n",
       "      <td>30.728862</td>\n",
       "    </tr>\n",
       "  </tbody>\n",
       "</table>\n",
       "</div>"
      ],
      "text/plain": [
       "            monthly_sum  1month_ago  2month_ago  3month_ago  12month_ago\n",
       "time_id                                                                 \n",
       "2008-01-31    35.147742   37.161129   37.171597   38.419859    30.566316\n",
       "2008-02-29    32.977107   35.147742   37.161129   37.171597    27.603369\n",
       "2008-03-31    34.076646   32.977107   35.147742   37.161129    29.601840\n",
       "2008-04-30    43.029820   34.076646   32.977107   35.147742    29.738025\n",
       "2008-05-31    44.545075   43.029820   34.076646   32.977107    30.728862"
      ]
     },
     "execution_count": 10,
     "metadata": {},
     "output_type": "execute_result"
    }
   ],
   "source": [
    "# 欠損値が発生した部分のデータは削除する\n",
    "df_data = df_data['2008-01-01':].copy()\n",
    "df_data.head(5)"
   ]
  },
  {
   "cell_type": "markdown",
   "metadata": {},
   "source": [
    "#  <font color=\"MediumSlateBlue\">3. モデルを構築する</font>"
   ]
  },
  {
   "cell_type": "code",
   "execution_count": 11,
   "metadata": {
    "scrolled": true
   },
   "outputs": [],
   "source": [
    "from sklearn.linear_model import LinearRegression\n",
    "from sklearn.metrics import r2_score\n",
    "\n",
    "# モデルのトレーニングを行う鑵子を定義する\n",
    "def train_lr_model(feature_cols, target_col, train_test_split):\n",
    "    # 学習データとテストデータを分離\n",
    "    train_x = df_data[:train_test_split][feature_cols].values\n",
    "    train_y = df_data[:train_test_split][[target_col]].values\n",
    "    train_index = df_data[:train_test_split].index\n",
    "    test_x = df_data[train_test_split:][feature_cols].values\n",
    "    test_y = df_data[train_test_split:][[target_col]].values\n",
    "    test_index = df_data[train_test_split:].index\n",
    "\n",
    "    # モデルのトレーニングを実行\n",
    "    lr_model = LinearRegression(normalize=True)\n",
    "    lr_model.fit(train_x, train_y)\n",
    "\n",
    "    # テストデータに対して予測を実行\n",
    "    test_pred = lr_model.predict(test_x)\n",
    "\n",
    "    # 実績データと予測結果を結合して返却\n",
    "    df_test = pd.DataFrame({'label': test_y[:,0], \n",
    "                            'pred': test_pred[:,0]}, index=test_index)\n",
    "    df_train = pd.DataFrame({'label': train_y[:,0], \n",
    "                           }, index=train_index)\n",
    "    df_result = pd.concat([df_train, df_test], sort=False).sort_index()\n",
    "\n",
    "    return lr_model, df_test, df_result\n",
    "\n",
    "# 1回目のモデル作成試行\n",
    "feature_cols1 = ['1month_ago', '2month_ago', '3month_ago', '12month_ago']\n",
    "target_col = 'monthly_sum'\n",
    "train_test_split = '2011-12-31'\n",
    "\n",
    "model1, df_test1, df_result1 = train_lr_model(feature_cols1, target_col, train_test_split)"
   ]
  },
  {
   "cell_type": "code",
   "execution_count": 12,
   "metadata": {
    "scrolled": false
   },
   "outputs": [
    {
     "name": "stdout",
     "output_type": "stream",
     "text": [
      "r2 0.7618244363489933\n"
     ]
    },
    {
     "data": {
      "text/plain": [
       "<matplotlib.axes._subplots.AxesSubplot at 0x7f50f01b5e80>"
      ]
     },
     "execution_count": 12,
     "metadata": {},
     "output_type": "execute_result"
    },
    {
     "data": {
      "image/png": "[encoded data removed]",
      "text/plain": [
       "<Figure size 720x432 with 1 Axes>"
      ]
     },
     "metadata": {},
     "output_type": "display_data"
    }
   ],
   "source": [
    "print('r2', r2_score(df_test1.label, df_test1.pred))\n",
    "df_result1.plot(figsize=(10,6))"
   ]
  },
  {
   "cell_type": "markdown",
   "metadata": {},
   "source": [
    "### モデル1の予測傾向\n",
    "- r2乗値は約0.76となった\n",
    "- 2012年の予測はある程度実績に追随している\n",
    "- 2013年は、2012年までの増加傾向を反映して上振れした予測値となっている"
   ]
  },
  {
   "cell_type": "markdown",
   "metadata": {},
   "source": [
    "#  <font color=\"MediumSlateBlue\">3-2. モデルの改善を試みる</font>"
   ]
  },
  {
   "cell_type": "code",
   "execution_count": 13,
   "metadata": {
    "scrolled": false
   },
   "outputs": [],
   "source": [
    "# 年々増えていたり、月ごとに周期的な動きをしている傾向を取り込みたい\n",
    "# そのために特徴量を追加する\n",
    "\n",
    "df_data.reset_index(inplace=True)\n",
    "\n",
    "df_data['month'] = df_data.time_id.dt.month\n",
    "starting_year = df_data.time_id.dt.year.min()\n",
    "df_data['year_delta'] = df_data.time_id.dt.year - starting_year\n",
    "df_data.set_index('time_id', inplace=True)"
   ]
  },
  {
   "cell_type": "code",
   "execution_count": 14,
   "metadata": {},
   "outputs": [],
   "source": [
    "# もう一度モデルの学習を実行\n",
    "feature_cols2 = ['1month_ago', '2month_ago', '3month_ago', '12month_ago', 'month', 'year_delta']\n",
    "model2, df_test2, df_result2 = train_lr_model(feature_cols2, target_col, train_test_split)"
   ]
  },
  {
   "cell_type": "code",
   "execution_count": 15,
   "metadata": {
    "scrolled": false
   },
   "outputs": [
    {
     "name": "stdout",
     "output_type": "stream",
     "text": [
      "r2 0.847443065600014\n"
     ]
    },
    {
     "data": {
      "text/plain": [
       "<matplotlib.axes._subplots.AxesSubplot at 0x7f50f2cd7780>"
      ]
     },
     "execution_count": 15,
     "metadata": {},
     "output_type": "execute_result"
    },
    {
     "data": {
      "image/png": "[encoded data removed]",
      "text/plain": [
       "<Figure size 720x432 with 1 Axes>"
      ]
     },
     "metadata": {},
     "output_type": "display_data"
    }
   ],
   "source": [
    "print('r2', r2_score(df_test2.label, df_test2.pred))\n",
    "df_result2.plot(figsize=(10,6))"
   ]
  },
  {
   "cell_type": "markdown",
   "metadata": {},
   "source": [
    "### モデル2の予測傾向\n",
    "- r2乗値は約0.84に増加して、全体としての予実差は改善された\n",
    "- 2013年の上振れ傾向は是正されているが、2012年がやや下振れした予測となった"
   ]
  },
  {
   "cell_type": "code",
   "execution_count": 16,
   "metadata": {},
   "outputs": [
    {
     "name": "stdout",
     "output_type": "stream",
     "text": [
      "model1:\n",
      "coefficient[ 1month_ago ]= 0.3592176685137094\n",
      "coefficient[ 2month_ago ]= -0.01080780950346598\n",
      "coefficient[ 3month_ago ]= -0.03741174129560228\n",
      "coefficient[ 12month_ago ]= 0.7893041838986542\n",
      "intercept =  [2.06498483]\n",
      "\n",
      "model2:\n",
      "coefficient[ 1month_ago ]= 0.22167201503077563\n",
      "coefficient[ 2month_ago ]= -0.09740090013135928\n",
      "coefficient[ 3month_ago ]= 0.15001683229497276\n",
      "coefficient[ 12month_ago ]= 0.5114870600083773\n",
      "coefficient[ month ]= 1.400423552419746\n",
      "coefficient[ year_delta ]= 1.7269189894876196\n",
      "intercept =  [5.52265153]\n"
     ]
    }
   ],
   "source": [
    "# モデルはどんなパラメーターが算出されたのか\n",
    "def WriteCoef(model, feature_cols):\n",
    "    [print('coefficient[', v, ']=', model.coef_[0][i]) for i, v in enumerate(feature_cols)]\n",
    "    print('intercept = ', model.intercept_)\n",
    "    \n",
    "print('model1:')\n",
    "WriteCoef(model1, feature_cols1)\n",
    "print()\n",
    "print('model2:')\n",
    "WriteCoef(model2, feature_cols2)"
   ]
  },
  {
   "cell_type": "markdown",
   "metadata": {},
   "source": [
    "#  <font color=\"MediumSlateBlue\">4. モデルを推論用に展開する</font>"
   ]
  },
  {
   "cell_type": "code",
   "execution_count": 17,
   "metadata": {},
   "outputs": [],
   "source": [
    "import sagemaker\n",
    "from sagemaker import get_execution_role\n",
    "\n",
    "# Sagemaker session object\n",
    "sagemaker_session = sagemaker.Session()\n",
    "\n",
    "# Sagemakerの実行ロールを取得\n",
    "role = get_execution_role()"
   ]
  },
  {
   "cell_type": "code",
   "execution_count": 18,
   "metadata": {},
   "outputs": [
    {
     "data": {
      "text/plain": [
       "['s3://sagemaker-us-east-1-497558320447/sagemaker-handson/monthly_sum/de867b6d46954df3b4b5be1d7e423824.csv',\n",
       " 's3://sagemaker-us-east-1-497558320447/sagemaker-handson/monthly_sum/abec890f7b5b4cd189447a3e61fa308c.csv']"
      ]
     },
     "execution_count": 18,
     "metadata": {},
     "output_type": "execute_result"
    }
   ],
   "source": [
    "# S3上のデータ出力先を定義\n",
    "default_bucket = sagemaker_session.default_bucket()\n",
    "s3_prefix = 'sagemaker-handson'\n",
    "s3_path = 's3://{}/{}/monthly_sum'.format(default_bucket, s3_prefix)\n",
    "\n",
    "# 事前に出力先のS3パスを掃除しておく\n",
    "session.s3.delete_objects(path=s3_path)\n",
    "\n",
    "out_cols = ['monthly_sum', '1month_ago', '2month_ago', '3month_ago', '12month_ago', 'month', 'year_delta']\n",
    "df_train_estimator = df_data[:train_test_split][out_cols]\n",
    "df_test_estimator = df_data[train_test_split:][out_cols]\n",
    "\n",
    "# Jupyter上で処理していたデータをS3にdumpする\n",
    "data_on_s3 = session.pandas.to_csv(dataframe=df_train_estimator, path=s3_path, preserve_index=False )\n",
    "data_on_s3"
   ]
  },
  {
   "cell_type": "code",
   "execution_count": 17,
   "metadata": {},
   "outputs": [
    {
     "data": {
      "text/plain": [
       "['s3://sagemaker-us-east-1-497558320447/sagemaker-handson/monthly_sum/e7265ac3a27d4002b380da7d60861534.csv',\n",
       " 's3://sagemaker-us-east-1-497558320447/sagemaker-handson/monthly_sum/15b3c0a7d42c466d9e8b5d33bbdf1aca.csv',\n",
       " 's3://sagemaker-us-east-1-497558320447/sagemaker-handson/monthly_sum/16d4c67f23454dbead82c1f43b581999.csv',\n",
       " 's3://sagemaker-us-east-1-497558320447/sagemaker-handson/monthly_sum/b528df4f0b794ddeb127428c8da89077.csv']"
      ]
     },
     "execution_count": 17,
     "metadata": {},
     "output_type": "execute_result"
    }
   ],
   "source": [
    "# S3上のデータ出力先を定義\n",
    "default_bucket = sagemaker_session.default_bucket()\n",
    "s3_prefix = 'sagemaker-handson'\n",
    "s3_path = 's3://{}/{}/monthly_sum'.format(default_bucket, s3_prefix)\n",
    "\n",
    "# 事前に出力先のS3パスを掃除しておく\n",
    "session.s3.delete_objects(path=s3_path)\n",
    "\n",
    "out_cols = ['monthly_sum', '1month_ago', '2month_ago', '3month_ago', '12month_ago', 'month', 'year_delta']\n",
    "df_train_estimator = df_data[:train_test_split][out_cols]\n",
    "df_test_estimator = df_data[train_test_split:][out_cols]\n",
    "\n",
    "# Jupyter上で処理していたデータをS3にdumpする\n",
    "data_on_s3 = session.pandas.to_csv(dataframe=df_data, path=s3_path, preserve_index=False )\n",
    "data_on_s3"
   ]
  },
  {
   "cell_type": "code",
   "execution_count": 19,
   "metadata": {},
   "outputs": [],
   "source": [
    "from sagemaker.sklearn.estimator import SKLearn\n",
    "\n",
    "script_path = 'sklearn_monthly_sum.py'\n",
    "\n",
    "sklearn = SKLearn(\n",
    "    entry_point=script_path,\n",
    "    train_instance_type=\"local\",\n",
    "    role=role,\n",
    "    hyperparameters={'normalize': True})"
   ]
  },
  {
   "cell_type": "markdown",
   "metadata": {},
   "source": [
    "【参考】大量のデータを使用する重い学習に、学習用の別インスタンスを利用する場合は以下のように記述する\n",
    "```python\n",
    "from sagemaker.sklearn.estimator import SKLearn\n",
    "\n",
    "script_path = 'sklearn_monthly_sum.py'\n",
    "\n",
    "sklearn = SKLearn(\n",
    "    entry_point=script_path,\n",
    "    train_instance_type=\"ml.c4.xlarge\",\n",
    "    role=role,\n",
    "    sagemaker_session=sagemaker_session,\n",
    "    hyperparameters={'normalize': True})\n",
    "```"
   ]
  },
  {
   "cell_type": "code",
   "execution_count": 20,
   "metadata": {
    "scrolled": true
   },
   "outputs": [
    {
     "name": "stdout",
     "output_type": "stream",
     "text": [
      "Creating tmp4yqw_d62_algo-1-bkncl_1 ... \n",
      "\u001b[1BAttaching to tmp4yqw_d62_algo-1-bkncl_12mdone\u001b[0m\n",
      "\u001b[36malgo-1-bkncl_1  |\u001b[0m 2020-02-19 07:42:51,457 sagemaker-containers INFO     Imported framework sagemaker_sklearn_container.training\n",
      "\u001b[36malgo-1-bkncl_1  |\u001b[0m 2020-02-19 07:42:51,461 sagemaker-containers INFO     No GPUs detected (normal if no gpus installed)\n",
      "\u001b[36malgo-1-bkncl_1  |\u001b[0m 2020-02-19 07:42:51,474 sagemaker_sklearn_container.training INFO     Invoking user training script.\n",
      "\u001b[36malgo-1-bkncl_1  |\u001b[0m 2020-02-19 07:42:51,622 sagemaker-containers INFO     Module sklearn_monthly_sum does not provide a setup.py. \n",
      "\u001b[36malgo-1-bkncl_1  |\u001b[0m Generating setup.py\n",
      "\u001b[36malgo-1-bkncl_1  |\u001b[0m 2020-02-19 07:42:51,623 sagemaker-containers INFO     Generating setup.cfg\n",
      "\u001b[36malgo-1-bkncl_1  |\u001b[0m 2020-02-19 07:42:51,623 sagemaker-containers INFO     Generating MANIFEST.in\n",
      "\u001b[36malgo-1-bkncl_1  |\u001b[0m 2020-02-19 07:42:51,624 sagemaker-containers INFO     Installing module with the following command:\n",
      "\u001b[36malgo-1-bkncl_1  |\u001b[0m /miniconda3/bin/python -m pip install . \n",
      "\u001b[36malgo-1-bkncl_1  |\u001b[0m Processing /opt/ml/code\n",
      "\u001b[36malgo-1-bkncl_1  |\u001b[0m Building wheels for collected packages: sklearn-monthly-sum\n",
      "\u001b[36malgo-1-bkncl_1  |\u001b[0m   Building wheel for sklearn-monthly-sum (setup.py) ... \u001b[?25ldone\n",
      "\u001b[36malgo-1-bkncl_1  |\u001b[0m \u001b[?25h  Created wheel for sklearn-monthly-sum: filename=sklearn_monthly_sum-1.0.0-py2.py3-none-any.whl size=7510 sha256=14fa1f35a5f8b02a50adfa110cd59630bfd1202f304a7dc7794447cba4cbff5d\n",
      "\u001b[36malgo-1-bkncl_1  |\u001b[0m   Stored in directory: /tmp/pip-ephem-wheel-cache-ycrwtp1q/wheels/35/24/16/37574d11bf9bde50616c67372a334f94fa8356bc7164af8ca3\n",
      "\u001b[36malgo-1-bkncl_1  |\u001b[0m Successfully built sklearn-monthly-sum\n",
      "\u001b[36malgo-1-bkncl_1  |\u001b[0m Installing collected packages: sklearn-monthly-sum\n",
      "\u001b[36malgo-1-bkncl_1  |\u001b[0m Successfully installed sklearn-monthly-sum-1.0.0\n",
      "\u001b[36malgo-1-bkncl_1  |\u001b[0m 2020-02-19 07:42:52,894 sagemaker-containers INFO     No GPUs detected (normal if no gpus installed)\n",
      "\u001b[36malgo-1-bkncl_1  |\u001b[0m 2020-02-19 07:42:52,908 sagemaker-containers INFO     Invoking user script\n",
      "\u001b[36malgo-1-bkncl_1  |\u001b[0m \n",
      "\u001b[36malgo-1-bkncl_1  |\u001b[0m Training Env:\n",
      "\u001b[36malgo-1-bkncl_1  |\u001b[0m \n",
      "\u001b[36malgo-1-bkncl_1  |\u001b[0m {\n",
      "\u001b[36malgo-1-bkncl_1  |\u001b[0m     \"additional_framework_parameters\": {},\n",
      "\u001b[36malgo-1-bkncl_1  |\u001b[0m     \"channel_input_dirs\": {\n",
      "\u001b[36malgo-1-bkncl_1  |\u001b[0m         \"train\": \"/opt/ml/input/data/train\"\n",
      "\u001b[36malgo-1-bkncl_1  |\u001b[0m     },\n",
      "\u001b[36malgo-1-bkncl_1  |\u001b[0m     \"current_host\": \"algo-1-bkncl\",\n",
      "\u001b[36malgo-1-bkncl_1  |\u001b[0m     \"framework_module\": \"sagemaker_sklearn_container.training:main\",\n",
      "\u001b[36malgo-1-bkncl_1  |\u001b[0m     \"hosts\": [\n",
      "\u001b[36malgo-1-bkncl_1  |\u001b[0m         \"algo-1-bkncl\"\n",
      "\u001b[36malgo-1-bkncl_1  |\u001b[0m     ],\n",
      "\u001b[36malgo-1-bkncl_1  |\u001b[0m     \"hyperparameters\": {\n",
      "\u001b[36malgo-1-bkncl_1  |\u001b[0m         \"normalize\": true\n",
      "\u001b[36malgo-1-bkncl_1  |\u001b[0m     },\n",
      "\u001b[36malgo-1-bkncl_1  |\u001b[0m     \"input_config_dir\": \"/opt/ml/input/config\",\n",
      "\u001b[36malgo-1-bkncl_1  |\u001b[0m     \"input_data_config\": {\n",
      "\u001b[36malgo-1-bkncl_1  |\u001b[0m         \"train\": {\n",
      "\u001b[36malgo-1-bkncl_1  |\u001b[0m             \"TrainingInputMode\": \"File\"\n",
      "\u001b[36malgo-1-bkncl_1  |\u001b[0m         }\n",
      "\u001b[36malgo-1-bkncl_1  |\u001b[0m     },\n",
      "\u001b[36malgo-1-bkncl_1  |\u001b[0m     \"input_dir\": \"/opt/ml/input\",\n",
      "\u001b[36malgo-1-bkncl_1  |\u001b[0m     \"is_master\": true,\n",
      "\u001b[36malgo-1-bkncl_1  |\u001b[0m     \"job_name\": \"sagemaker-scikit-learn-2020-02-19-07-41-31-219\",\n",
      "\u001b[36malgo-1-bkncl_1  |\u001b[0m     \"log_level\": 20,\n",
      "\u001b[36malgo-1-bkncl_1  |\u001b[0m     \"master_hostname\": \"algo-1-bkncl\",\n",
      "\u001b[36malgo-1-bkncl_1  |\u001b[0m     \"model_dir\": \"/opt/ml/model\",\n",
      "\u001b[36malgo-1-bkncl_1  |\u001b[0m     \"module_dir\": \"s3://sagemaker-us-east-1-497558320447/sagemaker-scikit-learn-2020-02-19-07-41-31-219/source/sourcedir.tar.gz\",\n",
      "\u001b[36malgo-1-bkncl_1  |\u001b[0m     \"module_name\": \"sklearn_monthly_sum\",\n",
      "\u001b[36malgo-1-bkncl_1  |\u001b[0m     \"network_interface_name\": \"eth0\",\n",
      "\u001b[36malgo-1-bkncl_1  |\u001b[0m     \"num_cpus\": 2,\n",
      "\u001b[36malgo-1-bkncl_1  |\u001b[0m     \"num_gpus\": 0,\n",
      "\u001b[36malgo-1-bkncl_1  |\u001b[0m     \"output_data_dir\": \"/opt/ml/output/data\",\n",
      "\u001b[36malgo-1-bkncl_1  |\u001b[0m     \"output_dir\": \"/opt/ml/output\",\n",
      "\u001b[36malgo-1-bkncl_1  |\u001b[0m     \"output_intermediate_dir\": \"/opt/ml/output/intermediate\",\n",
      "\u001b[36malgo-1-bkncl_1  |\u001b[0m     \"resource_config\": {\n",
      "\u001b[36malgo-1-bkncl_1  |\u001b[0m         \"current_host\": \"algo-1-bkncl\",\n",
      "\u001b[36malgo-1-bkncl_1  |\u001b[0m         \"hosts\": [\n",
      "\u001b[36malgo-1-bkncl_1  |\u001b[0m             \"algo-1-bkncl\"\n",
      "\u001b[36malgo-1-bkncl_1  |\u001b[0m         ]\n",
      "\u001b[36malgo-1-bkncl_1  |\u001b[0m     },\n",
      "\u001b[36malgo-1-bkncl_1  |\u001b[0m     \"user_entry_point\": \"sklearn_monthly_sum.py\"\n",
      "\u001b[36malgo-1-bkncl_1  |\u001b[0m }\n",
      "\u001b[36malgo-1-bkncl_1  |\u001b[0m \n",
      "\u001b[36malgo-1-bkncl_1  |\u001b[0m Environment variables:\n",
      "\u001b[36malgo-1-bkncl_1  |\u001b[0m \n",
      "\u001b[36malgo-1-bkncl_1  |\u001b[0m SM_HOSTS=[\"algo-1-bkncl\"]\n",
      "\u001b[36malgo-1-bkncl_1  |\u001b[0m SM_NETWORK_INTERFACE_NAME=eth0\n",
      "\u001b[36malgo-1-bkncl_1  |\u001b[0m SM_HPS={\"normalize\":true}\n",
      "\u001b[36malgo-1-bkncl_1  |\u001b[0m SM_USER_ENTRY_POINT=sklearn_monthly_sum.py\n",
      "\u001b[36malgo-1-bkncl_1  |\u001b[0m SM_FRAMEWORK_PARAMS={}\n",
      "\u001b[36malgo-1-bkncl_1  |\u001b[0m SM_RESOURCE_CONFIG={\"current_host\":\"algo-1-bkncl\",\"hosts\":[\"algo-1-bkncl\"]}\n",
      "\u001b[36malgo-1-bkncl_1  |\u001b[0m SM_INPUT_DATA_CONFIG={\"train\":{\"TrainingInputMode\":\"File\"}}\n",
      "\u001b[36malgo-1-bkncl_1  |\u001b[0m SM_OUTPUT_DATA_DIR=/opt/ml/output/data\n",
      "\u001b[36malgo-1-bkncl_1  |\u001b[0m SM_CHANNELS=[\"train\"]\n",
      "\u001b[36malgo-1-bkncl_1  |\u001b[0m SM_CURRENT_HOST=algo-1-bkncl\n",
      "\u001b[36malgo-1-bkncl_1  |\u001b[0m SM_MODULE_NAME=sklearn_monthly_sum\n",
      "\u001b[36malgo-1-bkncl_1  |\u001b[0m SM_LOG_LEVEL=20\n",
      "\u001b[36malgo-1-bkncl_1  |\u001b[0m SM_FRAMEWORK_MODULE=sagemaker_sklearn_container.training:main\n",
      "\u001b[36malgo-1-bkncl_1  |\u001b[0m SM_INPUT_DIR=/opt/ml/input\n",
      "\u001b[36malgo-1-bkncl_1  |\u001b[0m SM_INPUT_CONFIG_DIR=/opt/ml/input/config\n",
      "\u001b[36malgo-1-bkncl_1  |\u001b[0m SM_OUTPUT_DIR=/opt/ml/output\n",
      "\u001b[36malgo-1-bkncl_1  |\u001b[0m SM_NUM_CPUS=2\n",
      "\u001b[36malgo-1-bkncl_1  |\u001b[0m SM_NUM_GPUS=0\n",
      "\u001b[36malgo-1-bkncl_1  |\u001b[0m SM_MODEL_DIR=/opt/ml/model\n",
      "\u001b[36malgo-1-bkncl_1  |\u001b[0m SM_MODULE_DIR=s3://sagemaker-us-east-1-497558320447/sagemaker-scikit-learn-2020-02-19-07-41-31-219/source/sourcedir.tar.gz\n",
      "\u001b[36malgo-1-bkncl_1  |\u001b[0m SM_TRAINING_ENV={\"additional_framework_parameters\":{},\"channel_input_dirs\":{\"train\":\"/opt/ml/input/data/train\"},\"current_host\":\"algo-1-bkncl\",\"framework_module\":\"sagemaker_sklearn_container.training:main\",\"hosts\":[\"algo-1-bkncl\"],\"hyperparameters\":{\"normalize\":true},\"input_config_dir\":\"/opt/ml/input/config\",\"input_data_config\":{\"train\":{\"TrainingInputMode\":\"File\"}},\"input_dir\":\"/opt/ml/input\",\"is_master\":true,\"job_name\":\"sagemaker-scikit-learn-2020-02-19-07-41-31-219\",\"log_level\":20,\"master_hostname\":\"algo-1-bkncl\",\"model_dir\":\"/opt/ml/model\",\"module_dir\":\"s3://sagemaker-us-east-1-497558320447/sagemaker-scikit-learn-2020-02-19-07-41-31-219/source/sourcedir.tar.gz\",\"module_name\":\"sklearn_monthly_sum\",\"network_interface_name\":\"eth0\",\"num_cpus\":2,\"num_gpus\":0,\"output_data_dir\":\"/opt/ml/output/data\",\"output_dir\":\"/opt/ml/output\",\"output_intermediate_dir\":\"/opt/ml/output/intermediate\",\"resource_config\":{\"current_host\":\"algo-1-bkncl\",\"hosts\":[\"algo-1-bkncl\"]},\"user_entry_point\":\"sklearn_monthly_sum.py\"}\n",
      "\u001b[36malgo-1-bkncl_1  |\u001b[0m SM_USER_ARGS=[\"--normalize\",\"True\"]\n",
      "\u001b[36malgo-1-bkncl_1  |\u001b[0m SM_OUTPUT_INTERMEDIATE_DIR=/opt/ml/output/intermediate\n",
      "\u001b[36malgo-1-bkncl_1  |\u001b[0m SM_CHANNEL_TRAIN=/opt/ml/input/data/train\n",
      "\u001b[36malgo-1-bkncl_1  |\u001b[0m SM_HP_NORMALIZE=true\n",
      "\u001b[36malgo-1-bkncl_1  |\u001b[0m PYTHONPATH=/miniconda3/bin:/miniconda3/lib/python37.zip:/miniconda3/lib/python3.7:/miniconda3/lib/python3.7/lib-dynload:/miniconda3/lib/python3.7/site-packages\n",
      "\u001b[36malgo-1-bkncl_1  |\u001b[0m \n",
      "\u001b[36malgo-1-bkncl_1  |\u001b[0m Invoking script with the following command:\n",
      "\u001b[36malgo-1-bkncl_1  |\u001b[0m \n",
      "\u001b[36malgo-1-bkncl_1  |\u001b[0m /miniconda3/bin/python -m sklearn_monthly_sum --normalize True\n",
      "\u001b[36malgo-1-bkncl_1  |\u001b[0m \n",
      "\u001b[36malgo-1-bkncl_1  |\u001b[0m \n",
      "\u001b[36malgo-1-bkncl_1  |\u001b[0m /miniconda3/lib/python3.7/site-packages/sklearn/externals/joblib/externals/cloudpickle/cloudpickle.py:47: DeprecationWarning: the imp module is deprecated in favour of importlib; see the module's documentation for alternative uses\n",
      "\u001b[36malgo-1-bkncl_1  |\u001b[0m   import imp\n",
      "\u001b[36malgo-1-bkncl_1  |\u001b[0m 2020-02-19 07:42:53,751 sagemaker-containers INFO     Reporting training SUCCESS\n",
      "\u001b[36mtmp4yqw_d62_algo-1-bkncl_1 exited with code 0\n",
      "\u001b[0mAborting on container exit...\n"
     ]
    },
    {
     "name": "stdout",
     "output_type": "stream",
     "text": [
      "===== Job Complete =====\n"
     ]
    }
   ],
   "source": [
    "# S3に出力したデータを指定してモデルを学習させる\n",
    "sklearn.fit({'train': s3_path})"
   ]
  },
  {
   "cell_type": "code",
   "execution_count": 21,
   "metadata": {},
   "outputs": [
    {
     "name": "stdout",
     "output_type": "stream",
     "text": [
      "Attaching to tmpam6zk9sj_algo-1-3046e_1\n",
      "\u001b[36malgo-1-3046e_1  |\u001b[0m Processing /opt/ml/code\n",
      "\u001b[36malgo-1-3046e_1  |\u001b[0m Building wheels for collected packages: sklearn-monthly-sum\n",
      "\u001b[36malgo-1-3046e_1  |\u001b[0m   Building wheel for sklearn-monthly-sum (setup.py) ... \u001b[?25ldone\n",
      "\u001b[36malgo-1-3046e_1  |\u001b[0m \u001b[?25h  Created wheel for sklearn-monthly-sum: filename=sklearn_monthly_sum-1.0.0-py2.py3-none-any.whl size=7512 sha256=75dcc670be11ff49b93ce6c887d8989b1442327b62da9a7f4640f1c16cacfccf\n",
      "\u001b[36malgo-1-3046e_1  |\u001b[0m   Stored in directory: /tmp/pip-ephem-wheel-cache-gf99aryt/wheels/35/24/16/37574d11bf9bde50616c67372a334f94fa8356bc7164af8ca3\n",
      "\u001b[36malgo-1-3046e_1  |\u001b[0m Successfully built sklearn-monthly-sum\n",
      "\u001b[36malgo-1-3046e_1  |\u001b[0m Installing collected packages: sklearn-monthly-sum\n",
      "\u001b[36malgo-1-3046e_1  |\u001b[0m Successfully installed sklearn-monthly-sum-1.0.0\n",
      "\u001b[36malgo-1-3046e_1  |\u001b[0m /miniconda3/lib/python3.7/site-packages/sklearn/externals/joblib/externals/cloudpickle/cloudpickle.py:47: DeprecationWarning: the imp module is deprecated in favour of importlib; see the module's documentation for alternative uses\n",
      "\u001b[36malgo-1-3046e_1  |\u001b[0m   import imp\n",
      "\u001b[36malgo-1-3046e_1  |\u001b[0m [2020-02-19 07:43:50 +0000] [30] [INFO] Starting gunicorn 19.9.0\n",
      "\u001b[36malgo-1-3046e_1  |\u001b[0m [2020-02-19 07:43:50 +0000] [30] [INFO] Listening at: unix:/tmp/gunicorn.sock (30)\n",
      "\u001b[36malgo-1-3046e_1  |\u001b[0m [2020-02-19 07:43:50 +0000] [30] [INFO] Using worker: gevent\n",
      "\u001b[36malgo-1-3046e_1  |\u001b[0m [2020-02-19 07:43:50 +0000] [33] [INFO] Booting worker with pid: 33\n",
      "\u001b[36malgo-1-3046e_1  |\u001b[0m [2020-02-19 07:43:50 +0000] [34] [INFO] Booting worker with pid: 34\n",
      "\u001b[36malgo-1-3046e_1  |\u001b[0m 2020-02-19 07:43:51,453 INFO - sagemaker-containers - No GPUs detected (normal if no gpus installed)\n",
      "\u001b[36malgo-1-3046e_1  |\u001b[0m /miniconda3/lib/python3.7/site-packages/sklearn/externals/joblib/externals/cloudpickle/cloudpickle.py:47: DeprecationWarning: the imp module is deprecated in favour of importlib; see the module's documentation for alternative uses\n",
      "\u001b[36malgo-1-3046e_1  |\u001b[0m   import imp\n",
      "\u001b[36malgo-1-3046e_1  |\u001b[0m tuki code1: /opt/ml/model\n",
      "!\u001b[36malgo-1-3046e_1  |\u001b[0m 172.18.0.1 - - [19/Feb/2020:07:43:51 +0000] \"GET /ping HTTP/1.1\" 200 0 \"-\" \"-\"\n"
     ]
    }
   ],
   "source": [
    "# 学習が完了したので予測のためのpredictorを作成する\n",
    "predictor = sklearn.deploy(initial_instance_count=1, instance_type=\"local\")"
   ]
  },
  {
   "cell_type": "markdown",
   "metadata": {},
   "source": [
    "【参考】実運用に利用するEndpointをdeployする際はインスタンスタイプの記述を変更する\n",
    "```python\n",
    "predictor = sklearn.deploy(initial_instance_count=1, instance_type=\"ml.m4.xlarge\")\n",
    "```"
   ]
  },
  {
   "cell_type": "markdown",
   "metadata": {},
   "source": [
    "#  <font color=\"MediumSlateBlue\">5. endpointを使用してpredictionを行う</font>"
   ]
  },
  {
   "cell_type": "code",
   "execution_count": 22,
   "metadata": {},
   "outputs": [
    {
     "data": {
      "text/html": [
       "<div>\n",
       "<style scoped>\n",
       "    .dataframe tbody tr th:only-of-type {\n",
       "        vertical-align: middle;\n",
       "    }\n",
       "\n",
       "    .dataframe tbody tr th {\n",
       "        vertical-align: top;\n",
       "    }\n",
       "\n",
       "    .dataframe thead th {\n",
       "        text-align: right;\n",
       "    }\n",
       "</style>\n",
       "<table border=\"1\" class=\"dataframe\">\n",
       "  <thead>\n",
       "    <tr style=\"text-align: right;\">\n",
       "      <th></th>\n",
       "      <th>monthly_sum</th>\n",
       "      <th>1month_ago</th>\n",
       "      <th>2month_ago</th>\n",
       "      <th>3month_ago</th>\n",
       "      <th>12month_ago</th>\n",
       "      <th>month</th>\n",
       "      <th>year_delta</th>\n",
       "    </tr>\n",
       "    <tr>\n",
       "      <th>time_id</th>\n",
       "      <th></th>\n",
       "      <th></th>\n",
       "      <th></th>\n",
       "      <th></th>\n",
       "      <th></th>\n",
       "      <th></th>\n",
       "      <th></th>\n",
       "    </tr>\n",
       "  </thead>\n",
       "  <tbody>\n",
       "    <tr>\n",
       "      <th>2011-12-31</th>\n",
       "      <td>89.727830</td>\n",
       "      <td>89.950106</td>\n",
       "      <td>92.951907</td>\n",
       "      <td>70.769899</td>\n",
       "      <td>70.150479</td>\n",
       "      <td>12</td>\n",
       "      <td>3</td>\n",
       "    </tr>\n",
       "    <tr>\n",
       "      <th>2012-01-31</th>\n",
       "      <td>60.468286</td>\n",
       "      <td>89.727830</td>\n",
       "      <td>89.950106</td>\n",
       "      <td>92.951907</td>\n",
       "      <td>53.064402</td>\n",
       "      <td>1</td>\n",
       "      <td>4</td>\n",
       "    </tr>\n",
       "    <tr>\n",
       "      <th>2012-02-29</th>\n",
       "      <td>56.589682</td>\n",
       "      <td>60.468286</td>\n",
       "      <td>89.727830</td>\n",
       "      <td>89.950106</td>\n",
       "      <td>47.980545</td>\n",
       "      <td>2</td>\n",
       "      <td>4</td>\n",
       "    </tr>\n",
       "    <tr>\n",
       "      <th>2012-03-31</th>\n",
       "      <td>58.577287</td>\n",
       "      <td>56.589682</td>\n",
       "      <td>60.468286</td>\n",
       "      <td>89.727830</td>\n",
       "      <td>51.282577</td>\n",
       "      <td>3</td>\n",
       "      <td>4</td>\n",
       "    </tr>\n",
       "    <tr>\n",
       "      <th>2012-04-30</th>\n",
       "      <td>75.967463</td>\n",
       "      <td>58.577287</td>\n",
       "      <td>56.589682</td>\n",
       "      <td>60.468286</td>\n",
       "      <td>63.211591</td>\n",
       "      <td>4</td>\n",
       "      <td>4</td>\n",
       "    </tr>\n",
       "    <tr>\n",
       "      <th>2012-05-31</th>\n",
       "      <td>78.652050</td>\n",
       "      <td>75.967463</td>\n",
       "      <td>58.577287</td>\n",
       "      <td>56.589682</td>\n",
       "      <td>65.541814</td>\n",
       "      <td>5</td>\n",
       "      <td>4</td>\n",
       "    </tr>\n",
       "    <tr>\n",
       "      <th>2012-06-30</th>\n",
       "      <td>73.758302</td>\n",
       "      <td>78.652050</td>\n",
       "      <td>75.967463</td>\n",
       "      <td>58.577287</td>\n",
       "      <td>61.327811</td>\n",
       "      <td>6</td>\n",
       "      <td>4</td>\n",
       "    </tr>\n",
       "    <tr>\n",
       "      <th>2012-07-31</th>\n",
       "      <td>94.252176</td>\n",
       "      <td>73.758302</td>\n",
       "      <td>78.652050</td>\n",
       "      <td>75.967463</td>\n",
       "      <td>75.388245</td>\n",
       "      <td>7</td>\n",
       "      <td>4</td>\n",
       "    </tr>\n",
       "    <tr>\n",
       "      <th>2012-08-31</th>\n",
       "      <td>94.285501</td>\n",
       "      <td>94.252176</td>\n",
       "      <td>73.758302</td>\n",
       "      <td>78.652050</td>\n",
       "      <td>75.548115</td>\n",
       "      <td>8</td>\n",
       "      <td>4</td>\n",
       "    </tr>\n",
       "    <tr>\n",
       "      <th>2012-09-30</th>\n",
       "      <td>88.349355</td>\n",
       "      <td>94.285501</td>\n",
       "      <td>94.252176</td>\n",
       "      <td>73.758302</td>\n",
       "      <td>70.769899</td>\n",
       "      <td>9</td>\n",
       "      <td>4</td>\n",
       "    </tr>\n",
       "  </tbody>\n",
       "</table>\n",
       "</div>"
      ],
      "text/plain": [
       "            monthly_sum  1month_ago  2month_ago  3month_ago  12month_ago  \\\n",
       "time_id                                                                    \n",
       "2011-12-31    89.727830   89.950106   92.951907   70.769899    70.150479   \n",
       "2012-01-31    60.468286   89.727830   89.950106   92.951907    53.064402   \n",
       "2012-02-29    56.589682   60.468286   89.727830   89.950106    47.980545   \n",
       "2012-03-31    58.577287   56.589682   60.468286   89.727830    51.282577   \n",
       "2012-04-30    75.967463   58.577287   56.589682   60.468286    63.211591   \n",
       "2012-05-31    78.652050   75.967463   58.577287   56.589682    65.541814   \n",
       "2012-06-30    73.758302   78.652050   75.967463   58.577287    61.327811   \n",
       "2012-07-31    94.252176   73.758302   78.652050   75.967463    75.388245   \n",
       "2012-08-31    94.285501   94.252176   73.758302   78.652050    75.548115   \n",
       "2012-09-30    88.349355   94.285501   94.252176   73.758302    70.769899   \n",
       "\n",
       "            month  year_delta  \n",
       "time_id                        \n",
       "2011-12-31     12           3  \n",
       "2012-01-31      1           4  \n",
       "2012-02-29      2           4  \n",
       "2012-03-31      3           4  \n",
       "2012-04-30      4           4  \n",
       "2012-05-31      5           4  \n",
       "2012-06-30      6           4  \n",
       "2012-07-31      7           4  \n",
       "2012-08-31      8           4  \n",
       "2012-09-30      9           4  "
      ]
     },
     "execution_count": 22,
     "metadata": {},
     "output_type": "execute_result"
    }
   ],
   "source": [
    "df_test_estimator.head(10)"
   ]
  },
  {
   "cell_type": "code",
   "execution_count": 23,
   "metadata": {},
   "outputs": [],
   "source": [
    "# Estimatorに合わせたテストデータを作成する\n",
    "test_x = df_test_estimator.values[:,1:]\n",
    "test_y = df_test_estimator.values[:,0]"
   ]
  },
  {
   "cell_type": "code",
   "execution_count": 24,
   "metadata": {},
   "outputs": [
    {
     "name": "stdout",
     "output_type": "stream",
     "text": [
      "\u001b[36malgo-1-3046e_1  |\u001b[0m 2020-02-19 07:44:05,734 INFO - sagemaker-containers - No GPUs detected (normal if no gpus installed)\n",
      "\u001b[36malgo-1-3046e_1  |\u001b[0m /miniconda3/lib/python3.7/site-packages/sklearn/externals/joblib/externals/cloudpickle/cloudpickle.py:47: DeprecationWarning: the imp module is deprecated in favour of importlib; see the module's documentation for alternative uses\n",
      "\u001b[36malgo-1-3046e_1  |\u001b[0m   import imp\n",
      "\u001b[36malgo-1-3046e_1  |\u001b[0m tuki code1: /opt/ml/model\n",
      "\u001b[36malgo-1-3046e_1  |\u001b[0m 172.18.0.1 - - [19/Feb/2020:07:44:06 +0000] \"POST /invocations HTTP/1.1\" 200 328 \"-\" \"-\"\n"
     ]
    }
   ],
   "source": [
    "pred = predictor.predict(test_x)\n",
    "df_test_result = pd.DataFrame({'label':test_y, 'pred':pred})"
   ]
  },
  {
   "cell_type": "code",
   "execution_count": 25,
   "metadata": {},
   "outputs": [
    {
     "data": {
      "text/plain": [
       "<matplotlib.axes._subplots.AxesSubplot at 0x7f50f01ec6a0>"
      ]
     },
     "execution_count": 25,
     "metadata": {},
     "output_type": "execute_result"
    },
    {
     "data": {
      "image/png": "[encoded data removed]",
      "text/plain": [
       "<Figure size 432x288 with 1 Axes>"
      ]
     },
     "metadata": {},
     "output_type": "display_data"
    }
   ],
   "source": [
    "df_test_result.plot()"
   ]
  }
 ],
 "metadata": {
  "kernelspec": {
   "display_name": "conda_python3",
   "language": "python",
   "name": "conda_python3"
  },
  "language_info": {
   "codemirror_mode": {
    "name": "ipython",
    "version": 3
   },
   "file_extension": ".py",
   "mimetype": "text/x-python",
   "name": "python",
   "nbconvert_exporter": "python",
   "pygments_lexer": "ipython3",
   "version": "3.6.5"
  }
 },
 "nbformat": 4,
 "nbformat_minor": 2
}
