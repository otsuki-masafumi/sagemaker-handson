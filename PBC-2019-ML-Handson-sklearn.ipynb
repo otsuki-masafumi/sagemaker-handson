{
 "cells": [
  {
   "cell_type": "markdown",
   "metadata": {},
   "source": [
    "# このハンズオンの目的"
   ]
  },
  {
   "cell_type": "markdown",
   "metadata": {},
   "source": [
    "# <font color=\"MediumSlateBlue\">1. データを理解する</font>"
   ]
  },
  {
   "cell_type": "code",
   "execution_count": 1,
   "metadata": {},
   "outputs": [
    {
     "name": "stdout",
     "output_type": "stream",
     "text": [
      "Requirement already satisfied: awswrangler in /home/ec2-user/anaconda3/envs/python3/lib/python3.6/site-packages (0.0.23)\n",
      "Requirement already satisfied: boto3~=1.10.25 in /home/ec2-user/anaconda3/envs/python3/lib/python3.6/site-packages (from awswrangler) (1.10.30)\n",
      "Requirement already satisfied: pyarrow~=0.15.1 in /home/ec2-user/anaconda3/envs/python3/lib/python3.6/site-packages (from awswrangler) (0.15.1)\n",
      "Requirement already satisfied: pg8000~=1.13.2 in /home/ec2-user/anaconda3/envs/python3/lib/python3.6/site-packages (from awswrangler) (1.13.2)\n",
      "Requirement already satisfied: s3fs~=0.4.0 in /home/ec2-user/anaconda3/envs/python3/lib/python3.6/site-packages (from awswrangler) (0.4.0)\n",
      "Requirement already satisfied: pandas~=0.25.3 in /home/ec2-user/anaconda3/envs/python3/lib/python3.6/site-packages (from awswrangler) (0.25.3)\n",
      "Requirement already satisfied: numpy~=1.17.4 in /home/ec2-user/anaconda3/envs/python3/lib/python3.6/site-packages (from awswrangler) (1.17.4)\n",
      "Requirement already satisfied: tenacity~=6.0.0 in /home/ec2-user/anaconda3/envs/python3/lib/python3.6/site-packages (from awswrangler) (6.0.0)\n",
      "Requirement already satisfied: botocore~=1.13.25 in /home/ec2-user/anaconda3/envs/python3/lib/python3.6/site-packages (from awswrangler) (1.13.30)\n",
      "Requirement already satisfied: s3transfer<0.3.0,>=0.2.0 in /home/ec2-user/anaconda3/envs/python3/lib/python3.6/site-packages (from boto3~=1.10.25->awswrangler) (0.2.1)\n",
      "Requirement already satisfied: jmespath<1.0.0,>=0.7.1 in /home/ec2-user/anaconda3/envs/python3/lib/python3.6/site-packages (from boto3~=1.10.25->awswrangler) (0.9.4)\n",
      "Requirement already satisfied: six>=1.0.0 in /home/ec2-user/anaconda3/envs/python3/lib/python3.6/site-packages (from pyarrow~=0.15.1->awswrangler) (1.11.0)\n",
      "Requirement already satisfied: scramp==1.1.0 in /home/ec2-user/anaconda3/envs/python3/lib/python3.6/site-packages (from pg8000~=1.13.2->awswrangler) (1.1.0)\n",
      "Requirement already satisfied: fsspec>=0.6.0 in /home/ec2-user/anaconda3/envs/python3/lib/python3.6/site-packages (from s3fs~=0.4.0->awswrangler) (0.6.1)\n",
      "Requirement already satisfied: python-dateutil>=2.6.1 in /home/ec2-user/anaconda3/envs/python3/lib/python3.6/site-packages (from pandas~=0.25.3->awswrangler) (2.7.3)\n",
      "Requirement already satisfied: pytz>=2017.2 in /home/ec2-user/anaconda3/envs/python3/lib/python3.6/site-packages (from pandas~=0.25.3->awswrangler) (2018.4)\n",
      "Requirement already satisfied: docutils<0.16,>=0.10 in /home/ec2-user/anaconda3/envs/python3/lib/python3.6/site-packages (from botocore~=1.13.25->awswrangler) (0.14)\n",
      "Requirement already satisfied: urllib3<1.26,>=1.20; python_version >= \"3.4\" in /home/ec2-user/anaconda3/envs/python3/lib/python3.6/site-packages (from botocore~=1.13.25->awswrangler) (1.23)\n",
      "\u001b[31mawscli 1.16.283 has requirement botocore==1.13.19, but you'll have botocore 1.13.30 which is incompatible.\u001b[0m\n",
      "\u001b[33mYou are using pip version 10.0.1, however version 19.3.1 is available.\n",
      "You should consider upgrading via the 'pip install --upgrade pip' command.\u001b[0m\n"
     ]
    }
   ],
   "source": [
    "!pip install awswrangler"
   ]
  },
  {
   "cell_type": "code",
   "execution_count": 2,
   "metadata": {},
   "outputs": [],
   "source": [
    "import awswrangler\n",
    "import pandas as pd\n",
    "import numpy as np\n",
    "\n",
    "%matplotlib inline\n",
    "pd.set_option('display.max_rows', 2000)"
   ]
  },
  {
   "cell_type": "code",
   "execution_count": 3,
   "metadata": {},
   "outputs": [
    {
     "data": {
      "text/html": [
       "<div>\n",
       "<style scoped>\n",
       "    .dataframe tbody tr th:only-of-type {\n",
       "        vertical-align: middle;\n",
       "    }\n",
       "\n",
       "    .dataframe tbody tr th {\n",
       "        vertical-align: top;\n",
       "    }\n",
       "\n",
       "    .dataframe thead th {\n",
       "        text-align: right;\n",
       "    }\n",
       "</style>\n",
       "<table border=\"1\" class=\"dataframe\">\n",
       "  <thead>\n",
       "    <tr style=\"text-align: right;\">\n",
       "      <th></th>\n",
       "      <th>json_sales_count</th>\n",
       "    </tr>\n",
       "  </thead>\n",
       "  <tbody>\n",
       "    <tr>\n",
       "      <th>0</th>\n",
       "      <td>147287722</td>\n",
       "    </tr>\n",
       "  </tbody>\n",
       "</table>\n",
       "</div>"
      ],
      "text/plain": [
       "   json_sales_count\n",
       "0         147287722"
      ]
     },
     "execution_count": 3,
     "metadata": {},
     "output_type": "execute_result"
    }
   ],
   "source": [
    "# Python上からAthenaを操作するために便利なライブラリー AWS Data Wranglerを利用する\n",
    "session = awswrangler.Session()\n",
    "\n",
    "# S3に格納されたjson_salesの件数を確認する\n",
    "# この関数はPandas DataFrameを戻すが、表示させるだけの場合は変数に格納する必要はない\n",
    "session.pandas.read_sql_athena(\n",
    "    sql=\"select count(*) as json_sales_count from json_sales\",\n",
    "    database=\"workshop\"\n",
    ")"
   ]
  },
  {
   "cell_type": "code",
   "execution_count": 4,
   "metadata": {},
   "outputs": [
    {
     "data": {
      "text/html": [
       "<div>\n",
       "<style scoped>\n",
       "    .dataframe tbody tr th:only-of-type {\n",
       "        vertical-align: middle;\n",
       "    }\n",
       "\n",
       "    .dataframe tbody tr th {\n",
       "        vertical-align: top;\n",
       "    }\n",
       "\n",
       "    .dataframe thead th {\n",
       "        text-align: right;\n",
       "    }\n",
       "</style>\n",
       "<table border=\"1\" class=\"dataframe\">\n",
       "  <thead>\n",
       "    <tr style=\"text-align: right;\">\n",
       "      <th></th>\n",
       "      <th>prod_id</th>\n",
       "      <th>cust_id</th>\n",
       "      <th>time_id</th>\n",
       "      <th>channel_id</th>\n",
       "      <th>promo_id</th>\n",
       "      <th>quantity_sold</th>\n",
       "      <th>seller</th>\n",
       "      <th>fulfillment_center</th>\n",
       "      <th>courier_org</th>\n",
       "      <th>tax_country</th>\n",
       "      <th>tax_region</th>\n",
       "      <th>amount_sold</th>\n",
       "    </tr>\n",
       "  </thead>\n",
       "  <tbody>\n",
       "    <tr>\n",
       "      <th>0</th>\n",
       "      <td>125</td>\n",
       "      <td>14489422</td>\n",
       "      <td>1995-01-01 00:00:00</td>\n",
       "      <td>4</td>\n",
       "      <td>426</td>\n",
       "      <td>71.0</td>\n",
       "      <td>10417</td>\n",
       "      <td>13402</td>\n",
       "      <td>1313</td>\n",
       "      <td>CW</td>\n",
       "      <td>AT</td>\n",
       "      <td>83.0</td>\n",
       "    </tr>\n",
       "    <tr>\n",
       "      <th>1</th>\n",
       "      <td>65</td>\n",
       "      <td>5623577</td>\n",
       "      <td>1995-01-01 00:00:00</td>\n",
       "      <td>9</td>\n",
       "      <td>377</td>\n",
       "      <td>24.0</td>\n",
       "      <td>10555</td>\n",
       "      <td>13474</td>\n",
       "      <td>1541</td>\n",
       "      <td>ZA</td>\n",
       "      <td>MZ</td>\n",
       "      <td>95.0</td>\n",
       "    </tr>\n",
       "    <tr>\n",
       "      <th>2</th>\n",
       "      <td>85</td>\n",
       "      <td>13215628</td>\n",
       "      <td>1995-01-01 00:00:00</td>\n",
       "      <td>9</td>\n",
       "      <td>527</td>\n",
       "      <td>16.0</td>\n",
       "      <td>10975</td>\n",
       "      <td>13668</td>\n",
       "      <td>1245</td>\n",
       "      <td>MF</td>\n",
       "      <td>ZU</td>\n",
       "      <td>16.0</td>\n",
       "    </tr>\n",
       "    <tr>\n",
       "      <th>3</th>\n",
       "      <td>34</td>\n",
       "      <td>3507136</td>\n",
       "      <td>1995-01-01 00:00:00</td>\n",
       "      <td>9</td>\n",
       "      <td>412</td>\n",
       "      <td>43.0</td>\n",
       "      <td>10415</td>\n",
       "      <td>14543</td>\n",
       "      <td>1172</td>\n",
       "      <td>QR</td>\n",
       "      <td>TZ</td>\n",
       "      <td>36.0</td>\n",
       "    </tr>\n",
       "    <tr>\n",
       "      <th>4</th>\n",
       "      <td>79</td>\n",
       "      <td>4890181</td>\n",
       "      <td>1995-01-01 00:00:00</td>\n",
       "      <td>3</td>\n",
       "      <td>254</td>\n",
       "      <td>66.0</td>\n",
       "      <td>10374</td>\n",
       "      <td>13902</td>\n",
       "      <td>1265</td>\n",
       "      <td>PW</td>\n",
       "      <td>AR</td>\n",
       "      <td>43.0</td>\n",
       "    </tr>\n",
       "  </tbody>\n",
       "</table>\n",
       "</div>"
      ],
      "text/plain": [
       "   prod_id   cust_id              time_id  channel_id  promo_id  \\\n",
       "0      125  14489422  1995-01-01 00:00:00           4       426   \n",
       "1       65   5623577  1995-01-01 00:00:00           9       377   \n",
       "2       85  13215628  1995-01-01 00:00:00           9       527   \n",
       "3       34   3507136  1995-01-01 00:00:00           9       412   \n",
       "4       79   4890181  1995-01-01 00:00:00           3       254   \n",
       "\n",
       "   quantity_sold  seller  fulfillment_center  courier_org tax_country  \\\n",
       "0           71.0   10417               13402         1313          CW   \n",
       "1           24.0   10555               13474         1541          ZA   \n",
       "2           16.0   10975               13668         1245          MF   \n",
       "3           43.0   10415               14543         1172          QR   \n",
       "4           66.0   10374               13902         1265          PW   \n",
       "\n",
       "  tax_region  amount_sold  \n",
       "0         AT         83.0  \n",
       "1         MZ         95.0  \n",
       "2         ZU         16.0  \n",
       "3         TZ         36.0  \n",
       "4         AR         43.0  "
      ]
     },
     "execution_count": 4,
     "metadata": {},
     "output_type": "execute_result"
    }
   ],
   "source": [
    "# 少量のデータを取得してJupyter上で見てみる\n",
    "session.pandas.read_sql_athena(\n",
    "    sql=\"select * from json_sales where prod_id is not null limit 5\",\n",
    "    database=\"workshop\"\n",
    ")"
   ]
  },
  {
   "cell_type": "code",
   "execution_count": 5,
   "metadata": {},
   "outputs": [
    {
     "name": "stdout",
     "output_type": "stream",
     "text": [
      "取得したデータの件数（日数）: 6919\n"
     ]
    }
   ],
   "source": [
    "# 後続処理で利用するデータは変数に格納する\n",
    "# ここでは全期間のamaount_soldを日ごとに合計する処理をAthenaで行い、サマリーした結果をJupyter上で保持する\n",
    "df_sales_daily = session.pandas.read_sql_athena(\n",
    "    sql=\"select time_id, sum(amount_sold) as daily_sum from json_sales \\\n",
    "         where prod_id is not null \\\n",
    "         group by time_id order by time_id\",\n",
    "    database=\"workshop\"\n",
    ")\n",
    "print('取得したデータの件数（日数）: {}'.format(df_sales_daily.shape[0]))"
   ]
  },
  {
   "cell_type": "code",
   "execution_count": 6,
   "metadata": {},
   "outputs": [
    {
     "data": {
      "text/html": [
       "<div>\n",
       "<style scoped>\n",
       "    .dataframe tbody tr th:only-of-type {\n",
       "        vertical-align: middle;\n",
       "    }\n",
       "\n",
       "    .dataframe tbody tr th {\n",
       "        vertical-align: top;\n",
       "    }\n",
       "\n",
       "    .dataframe thead th {\n",
       "        text-align: right;\n",
       "    }\n",
       "</style>\n",
       "<table border=\"1\" class=\"dataframe\">\n",
       "  <thead>\n",
       "    <tr style=\"text-align: right;\">\n",
       "      <th></th>\n",
       "      <th>time_id</th>\n",
       "      <th>daily_sum</th>\n",
       "    </tr>\n",
       "  </thead>\n",
       "  <tbody>\n",
       "    <tr>\n",
       "      <th>0</th>\n",
       "      <td>1995-01-01 00:00:00</td>\n",
       "      <td>178490.0</td>\n",
       "    </tr>\n",
       "    <tr>\n",
       "      <th>1</th>\n",
       "      <td>1995-01-02 00:00:00</td>\n",
       "      <td>178516.0</td>\n",
       "    </tr>\n",
       "    <tr>\n",
       "      <th>2</th>\n",
       "      <td>1995-01-03 00:00:00</td>\n",
       "      <td>179277.0</td>\n",
       "    </tr>\n",
       "    <tr>\n",
       "      <th>3</th>\n",
       "      <td>1995-01-04 00:00:00</td>\n",
       "      <td>179204.0</td>\n",
       "    </tr>\n",
       "    <tr>\n",
       "      <th>4</th>\n",
       "      <td>1995-01-05 00:00:00</td>\n",
       "      <td>174441.0</td>\n",
       "    </tr>\n",
       "  </tbody>\n",
       "</table>\n",
       "</div>"
      ],
      "text/plain": [
       "               time_id  daily_sum\n",
       "0  1995-01-01 00:00:00   178490.0\n",
       "1  1995-01-02 00:00:00   178516.0\n",
       "2  1995-01-03 00:00:00   179277.0\n",
       "3  1995-01-04 00:00:00   179204.0\n",
       "4  1995-01-05 00:00:00   174441.0"
      ]
     },
     "execution_count": 6,
     "metadata": {},
     "output_type": "execute_result"
    }
   ],
   "source": [
    "df_sales_daily.head(5)"
   ]
  },
  {
   "cell_type": "code",
   "execution_count": 7,
   "metadata": {
    "scrolled": false
   },
   "outputs": [
    {
     "data": {
      "text/plain": [
       "<matplotlib.axes._subplots.AxesSubplot at 0x7fa824449a58>"
      ]
     },
     "execution_count": 7,
     "metadata": {},
     "output_type": "execute_result"
    },
    {
     "data": {
      "image/png": "[encoded data removed]",
      "text/plain": [
       "<Figure size 864x360 with 1 Axes>"
      ]
     },
     "metadata": {},
     "output_type": "display_data"
    }
   ],
   "source": [
    "# 月単位の売り上げを集計してグラフ化する\n",
    "df_sales_daily['time_id'] = pd.to_datetime(df_sales_daily.time_id)\n",
    "df_sales_daily.set_index('time_id', inplace=True)\n",
    "df_sales_daily = df_sales_daily.resample('D').sum()\n",
    "df_sales_monthly = df_sales_daily.resample('M').apply(np.sum)\n",
    "\n",
    "df_sales_monthly.rename(columns={'daily_sum':'monthly_sum'}, inplace=True)\n",
    "df_sales_monthly.plot(figsize=(12,5))"
   ]
  },
  {
   "cell_type": "markdown",
   "metadata": {},
   "source": [
    "#  <font color=\"MediumSlateBlue\">2. データを加工する</font>"
   ]
  },
  {
   "cell_type": "code",
   "execution_count": 8,
   "metadata": {
    "scrolled": true
   },
   "outputs": [
    {
     "data": {
      "text/html": [
       "<div>\n",
       "<style scoped>\n",
       "    .dataframe tbody tr th:only-of-type {\n",
       "        vertical-align: middle;\n",
       "    }\n",
       "\n",
       "    .dataframe tbody tr th {\n",
       "        vertical-align: top;\n",
       "    }\n",
       "\n",
       "    .dataframe thead th {\n",
       "        text-align: right;\n",
       "    }\n",
       "</style>\n",
       "<table border=\"1\" class=\"dataframe\">\n",
       "  <thead>\n",
       "    <tr style=\"text-align: right;\">\n",
       "      <th></th>\n",
       "      <th>monthly_sum</th>\n",
       "      <th>1month_ago</th>\n",
       "      <th>2month_ago</th>\n",
       "      <th>3month_ago</th>\n",
       "      <th>12month_ago</th>\n",
       "    </tr>\n",
       "    <tr>\n",
       "      <th>time_id</th>\n",
       "      <th></th>\n",
       "      <th></th>\n",
       "      <th></th>\n",
       "      <th></th>\n",
       "      <th></th>\n",
       "    </tr>\n",
       "  </thead>\n",
       "  <tbody>\n",
       "    <tr>\n",
       "      <th>2007-01-31</th>\n",
       "      <td>30.566316</td>\n",
       "      <td>NaN</td>\n",
       "      <td>NaN</td>\n",
       "      <td>NaN</td>\n",
       "      <td>NaN</td>\n",
       "    </tr>\n",
       "    <tr>\n",
       "      <th>2007-02-28</th>\n",
       "      <td>27.603369</td>\n",
       "      <td>30.566316</td>\n",
       "      <td>NaN</td>\n",
       "      <td>NaN</td>\n",
       "      <td>NaN</td>\n",
       "    </tr>\n",
       "    <tr>\n",
       "      <th>2007-03-31</th>\n",
       "      <td>29.601840</td>\n",
       "      <td>27.603369</td>\n",
       "      <td>30.566316</td>\n",
       "      <td>NaN</td>\n",
       "      <td>NaN</td>\n",
       "    </tr>\n",
       "    <tr>\n",
       "      <th>2007-04-30</th>\n",
       "      <td>29.738025</td>\n",
       "      <td>29.601840</td>\n",
       "      <td>27.603369</td>\n",
       "      <td>30.566316</td>\n",
       "      <td>NaN</td>\n",
       "    </tr>\n",
       "    <tr>\n",
       "      <th>2007-05-31</th>\n",
       "      <td>30.728862</td>\n",
       "      <td>29.738025</td>\n",
       "      <td>29.601840</td>\n",
       "      <td>27.603369</td>\n",
       "      <td>NaN</td>\n",
       "    </tr>\n",
       "    <tr>\n",
       "      <th>2007-06-30</th>\n",
       "      <td>28.790252</td>\n",
       "      <td>30.728862</td>\n",
       "      <td>29.738025</td>\n",
       "      <td>29.601840</td>\n",
       "      <td>NaN</td>\n",
       "    </tr>\n",
       "    <tr>\n",
       "      <th>2007-07-31</th>\n",
       "      <td>33.200844</td>\n",
       "      <td>28.790252</td>\n",
       "      <td>30.728862</td>\n",
       "      <td>29.738025</td>\n",
       "      <td>NaN</td>\n",
       "    </tr>\n",
       "    <tr>\n",
       "      <th>2007-08-31</th>\n",
       "      <td>33.164400</td>\n",
       "      <td>33.200844</td>\n",
       "      <td>28.790252</td>\n",
       "      <td>30.728862</td>\n",
       "      <td>NaN</td>\n",
       "    </tr>\n",
       "    <tr>\n",
       "      <th>2007-09-30</th>\n",
       "      <td>31.152977</td>\n",
       "      <td>33.164400</td>\n",
       "      <td>33.200844</td>\n",
       "      <td>28.790252</td>\n",
       "      <td>NaN</td>\n",
       "    </tr>\n",
       "    <tr>\n",
       "      <th>2007-10-31</th>\n",
       "      <td>38.419859</td>\n",
       "      <td>31.152977</td>\n",
       "      <td>33.164400</td>\n",
       "      <td>33.200844</td>\n",
       "      <td>NaN</td>\n",
       "    </tr>\n",
       "    <tr>\n",
       "      <th>2007-11-30</th>\n",
       "      <td>37.171597</td>\n",
       "      <td>38.419859</td>\n",
       "      <td>31.152977</td>\n",
       "      <td>33.164400</td>\n",
       "      <td>NaN</td>\n",
       "    </tr>\n",
       "    <tr>\n",
       "      <th>2007-12-31</th>\n",
       "      <td>37.161129</td>\n",
       "      <td>37.171597</td>\n",
       "      <td>38.419859</td>\n",
       "      <td>31.152977</td>\n",
       "      <td>NaN</td>\n",
       "    </tr>\n",
       "    <tr>\n",
       "      <th>2008-01-31</th>\n",
       "      <td>35.147742</td>\n",
       "      <td>37.161129</td>\n",
       "      <td>37.171597</td>\n",
       "      <td>38.419859</td>\n",
       "      <td>30.566316</td>\n",
       "    </tr>\n",
       "    <tr>\n",
       "      <th>2008-02-29</th>\n",
       "      <td>32.977107</td>\n",
       "      <td>35.147742</td>\n",
       "      <td>37.161129</td>\n",
       "      <td>37.171597</td>\n",
       "      <td>27.603369</td>\n",
       "    </tr>\n",
       "    <tr>\n",
       "      <th>2008-03-31</th>\n",
       "      <td>34.076646</td>\n",
       "      <td>32.977107</td>\n",
       "      <td>35.147742</td>\n",
       "      <td>37.161129</td>\n",
       "      <td>29.601840</td>\n",
       "    </tr>\n",
       "    <tr>\n",
       "      <th>2008-04-30</th>\n",
       "      <td>43.029820</td>\n",
       "      <td>34.076646</td>\n",
       "      <td>32.977107</td>\n",
       "      <td>35.147742</td>\n",
       "      <td>29.738025</td>\n",
       "    </tr>\n",
       "    <tr>\n",
       "      <th>2008-05-31</th>\n",
       "      <td>44.545075</td>\n",
       "      <td>43.029820</td>\n",
       "      <td>34.076646</td>\n",
       "      <td>32.977107</td>\n",
       "      <td>30.728862</td>\n",
       "    </tr>\n",
       "    <tr>\n",
       "      <th>2008-06-30</th>\n",
       "      <td>41.754398</td>\n",
       "      <td>44.545075</td>\n",
       "      <td>43.029820</td>\n",
       "      <td>34.076646</td>\n",
       "      <td>28.790252</td>\n",
       "    </tr>\n",
       "    <tr>\n",
       "      <th>2008-07-31</th>\n",
       "      <td>48.813762</td>\n",
       "      <td>41.754398</td>\n",
       "      <td>44.545075</td>\n",
       "      <td>43.029820</td>\n",
       "      <td>33.200844</td>\n",
       "    </tr>\n",
       "    <tr>\n",
       "      <th>2008-08-31</th>\n",
       "      <td>48.961442</td>\n",
       "      <td>48.813762</td>\n",
       "      <td>41.754398</td>\n",
       "      <td>44.545075</td>\n",
       "      <td>33.164400</td>\n",
       "    </tr>\n",
       "  </tbody>\n",
       "</table>\n",
       "</div>"
      ],
      "text/plain": [
       "            monthly_sum  1month_ago  2month_ago  3month_ago  12month_ago\n",
       "time_id                                                                 \n",
       "2007-01-31    30.566316         NaN         NaN         NaN          NaN\n",
       "2007-02-28    27.603369   30.566316         NaN         NaN          NaN\n",
       "2007-03-31    29.601840   27.603369   30.566316         NaN          NaN\n",
       "2007-04-30    29.738025   29.601840   27.603369   30.566316          NaN\n",
       "2007-05-31    30.728862   29.738025   29.601840   27.603369          NaN\n",
       "2007-06-30    28.790252   30.728862   29.738025   29.601840          NaN\n",
       "2007-07-31    33.200844   28.790252   30.728862   29.738025          NaN\n",
       "2007-08-31    33.164400   33.200844   28.790252   30.728862          NaN\n",
       "2007-09-30    31.152977   33.164400   33.200844   28.790252          NaN\n",
       "2007-10-31    38.419859   31.152977   33.164400   33.200844          NaN\n",
       "2007-11-30    37.171597   38.419859   31.152977   33.164400          NaN\n",
       "2007-12-31    37.161129   37.171597   38.419859   31.152977          NaN\n",
       "2008-01-31    35.147742   37.161129   37.171597   38.419859    30.566316\n",
       "2008-02-29    32.977107   35.147742   37.161129   37.171597    27.603369\n",
       "2008-03-31    34.076646   32.977107   35.147742   37.161129    29.601840\n",
       "2008-04-30    43.029820   34.076646   32.977107   35.147742    29.738025\n",
       "2008-05-31    44.545075   43.029820   34.076646   32.977107    30.728862\n",
       "2008-06-30    41.754398   44.545075   43.029820   34.076646    28.790252\n",
       "2008-07-31    48.813762   41.754398   44.545075   43.029820    33.200844\n",
       "2008-08-31    48.961442   48.813762   41.754398   44.545075    33.164400"
      ]
     },
     "execution_count": 8,
     "metadata": {},
     "output_type": "execute_result"
    }
   ],
   "source": [
    "# 過去の実績値の推移を入力データにするため、1ヶ月前、2ヶ月前、3ヶ月前、12ヶ月前の実績値を取得する\n",
    "df_data = df_sales_monthly['2007-01-01':].copy()\n",
    "df_data['monthly_sum'] = df_data.monthly_sum / 1000000\n",
    "df_data['1month_ago'] = df_data.monthly_sum.shift(1)\n",
    "df_data['2month_ago'] = df_data.monthly_sum.shift(2)\n",
    "df_data['3month_ago'] = df_data.monthly_sum.shift(3)\n",
    "df_data['12month_ago'] = df_data.monthly_sum.shift(12)\n",
    "\n",
    "# 過去のデータをシフトしているため、期間の開始から12レコード分は欠損値が発生する\n",
    "df_data.head(20)"
   ]
  },
  {
   "cell_type": "code",
   "execution_count": 9,
   "metadata": {},
   "outputs": [
    {
     "data": {
      "text/html": [
       "<div>\n",
       "<style scoped>\n",
       "    .dataframe tbody tr th:only-of-type {\n",
       "        vertical-align: middle;\n",
       "    }\n",
       "\n",
       "    .dataframe tbody tr th {\n",
       "        vertical-align: top;\n",
       "    }\n",
       "\n",
       "    .dataframe thead th {\n",
       "        text-align: right;\n",
       "    }\n",
       "</style>\n",
       "<table border=\"1\" class=\"dataframe\">\n",
       "  <thead>\n",
       "    <tr style=\"text-align: right;\">\n",
       "      <th></th>\n",
       "      <th>monthly_sum</th>\n",
       "      <th>1month_ago</th>\n",
       "      <th>2month_ago</th>\n",
       "      <th>3month_ago</th>\n",
       "      <th>12month_ago</th>\n",
       "    </tr>\n",
       "    <tr>\n",
       "      <th>time_id</th>\n",
       "      <th></th>\n",
       "      <th></th>\n",
       "      <th></th>\n",
       "      <th></th>\n",
       "      <th></th>\n",
       "    </tr>\n",
       "  </thead>\n",
       "  <tbody>\n",
       "    <tr>\n",
       "      <th>2008-01-31</th>\n",
       "      <td>35.147742</td>\n",
       "      <td>37.161129</td>\n",
       "      <td>37.171597</td>\n",
       "      <td>38.419859</td>\n",
       "      <td>30.566316</td>\n",
       "    </tr>\n",
       "    <tr>\n",
       "      <th>2008-02-29</th>\n",
       "      <td>32.977107</td>\n",
       "      <td>35.147742</td>\n",
       "      <td>37.161129</td>\n",
       "      <td>37.171597</td>\n",
       "      <td>27.603369</td>\n",
       "    </tr>\n",
       "    <tr>\n",
       "      <th>2008-03-31</th>\n",
       "      <td>34.076646</td>\n",
       "      <td>32.977107</td>\n",
       "      <td>35.147742</td>\n",
       "      <td>37.161129</td>\n",
       "      <td>29.601840</td>\n",
       "    </tr>\n",
       "    <tr>\n",
       "      <th>2008-04-30</th>\n",
       "      <td>43.029820</td>\n",
       "      <td>34.076646</td>\n",
       "      <td>32.977107</td>\n",
       "      <td>35.147742</td>\n",
       "      <td>29.738025</td>\n",
       "    </tr>\n",
       "    <tr>\n",
       "      <th>2008-05-31</th>\n",
       "      <td>44.545075</td>\n",
       "      <td>43.029820</td>\n",
       "      <td>34.076646</td>\n",
       "      <td>32.977107</td>\n",
       "      <td>30.728862</td>\n",
       "    </tr>\n",
       "  </tbody>\n",
       "</table>\n",
       "</div>"
      ],
      "text/plain": [
       "            monthly_sum  1month_ago  2month_ago  3month_ago  12month_ago\n",
       "time_id                                                                 \n",
       "2008-01-31    35.147742   37.161129   37.171597   38.419859    30.566316\n",
       "2008-02-29    32.977107   35.147742   37.161129   37.171597    27.603369\n",
       "2008-03-31    34.076646   32.977107   35.147742   37.161129    29.601840\n",
       "2008-04-30    43.029820   34.076646   32.977107   35.147742    29.738025\n",
       "2008-05-31    44.545075   43.029820   34.076646   32.977107    30.728862"
      ]
     },
     "execution_count": 9,
     "metadata": {},
     "output_type": "execute_result"
    }
   ],
   "source": [
    "# 欠損値が発生した部分のデータは削除する\n",
    "df_data = df_data['2008-01-01':].copy()\n",
    "df_data.head(5)"
   ]
  },
  {
   "cell_type": "markdown",
   "metadata": {},
   "source": [
    "#  <font color=\"MediumSlateBlue\">3. モデルを構築する</font>"
   ]
  },
  {
   "cell_type": "code",
   "execution_count": 10,
   "metadata": {
    "scrolled": true
   },
   "outputs": [],
   "source": [
    "from sklearn.linear_model import LinearRegression\n",
    "from sklearn.metrics import r2_score\n",
    "\n",
    "# モデルのトレーニングを行う鑵子を定義する\n",
    "def train_lr_model(feature_cols, target_col, train_test_split):\n",
    "    # 学習データとテストデータを分離\n",
    "    train_x = df_data[:train_test_split][feature_cols].values\n",
    "    train_y = df_data[:train_test_split][[target_col]].values\n",
    "    train_index = df_data[:train_test_split].index\n",
    "    test_x = df_data[train_test_split:][feature_cols].values\n",
    "    test_y = df_data[train_test_split:][[target_col]].values\n",
    "    test_index = df_data[train_test_split:].index\n",
    "\n",
    "    # モデルのトレーニングを実行\n",
    "    lr_model = LinearRegression(normalize=True)\n",
    "    lr_model.fit(train_x, train_y)\n",
    "\n",
    "    # テストデータに対して予測を実行\n",
    "    test_pred = lr_model.predict(test_x)\n",
    "\n",
    "    # 実績データと予測結果を結合して返却\n",
    "    df_test = pd.DataFrame({'label': test_y[:,0], \n",
    "                            'pred': test_pred[:,0]}, index=test_index)\n",
    "    df_train = pd.DataFrame({'label': train_y[:,0], \n",
    "                           }, index=train_index)\n",
    "    df_result = pd.concat([df_train, df_test], sort=False).sort_index()\n",
    "\n",
    "    return lr_model, df_test, df_result\n",
    "\n",
    "# 1回目のモデル作成試行\n",
    "feature_cols1 = ['1month_ago', '2month_ago', '3month_ago', '12month_ago']\n",
    "target_col = 'monthly_sum'\n",
    "train_test_split = '2011-12-31'\n",
    "\n",
    "model1, df_test1, df_result1 = train_lr_model(feature_cols1, target_col, train_test_split)"
   ]
  },
  {
   "cell_type": "code",
   "execution_count": 11,
   "metadata": {
    "scrolled": false
   },
   "outputs": [
    {
     "name": "stdout",
     "output_type": "stream",
     "text": [
      "r2 0.7618244363489933\n"
     ]
    },
    {
     "data": {
      "text/plain": [
       "<matplotlib.axes._subplots.AxesSubplot at 0x7fa8242f8be0>"
      ]
     },
     "execution_count": 11,
     "metadata": {},
     "output_type": "execute_result"
    },
    {
     "data": {
      "image/png": "[encoded data removed]",
      "text/plain": [
       "<Figure size 720x432 with 1 Axes>"
      ]
     },
     "metadata": {},
     "output_type": "display_data"
    }
   ],
   "source": [
    "print('r2', r2_score(df_test1.label, df_test1.pred))\n",
    "df_result1.plot(figsize=(10,6))"
   ]
  },
  {
   "cell_type": "markdown",
   "metadata": {},
   "source": [
    "### モデル1の予測傾向\n",
    "- r2乗値は約0.76となった\n",
    "- 2012年の予測はある程度実績に追随している\n",
    "- 2013年は、2012年までの増加傾向を反映して上振れした予測値となっている"
   ]
  },
  {
   "cell_type": "markdown",
   "metadata": {},
   "source": [
    "#  <font color=\"MediumSlateBlue\">3-2. モデルの改善を試みる</font>"
   ]
  },
  {
   "cell_type": "code",
   "execution_count": 12,
   "metadata": {
    "scrolled": false
   },
   "outputs": [],
   "source": [
    "# 年々増えていたり、月ごとに周期的な動きをしている傾向を取り込みたい\n",
    "# そのために特徴量を追加する\n",
    "\n",
    "df_data.reset_index(inplace=True)\n",
    "\n",
    "df_data['month'] = df_data.time_id.dt.month\n",
    "starting_year = df_data.time_id.dt.year.min()\n",
    "df_data['year_delta'] = df_data.time_id.dt.year - starting_year\n",
    "df_data.set_index('time_id', inplace=True)"
   ]
  },
  {
   "cell_type": "code",
   "execution_count": 13,
   "metadata": {},
   "outputs": [],
   "source": [
    "# もう一度モデルの学習を実行\n",
    "feature_cols2 = ['1month_ago', '2month_ago', '3month_ago', '12month_ago', 'month', 'year_delta']\n",
    "model2, df_test2, df_result2 = train_lr_model(feature_cols2, target_col, train_test_split)"
   ]
  },
  {
   "cell_type": "code",
   "execution_count": 14,
   "metadata": {
    "scrolled": false
   },
   "outputs": [
    {
     "name": "stdout",
     "output_type": "stream",
     "text": [
      "r2 0.847443065600014\n"
     ]
    },
    {
     "data": {
      "text/plain": [
       "<matplotlib.axes._subplots.AxesSubplot at 0x7fa8006eb5c0>"
      ]
     },
     "execution_count": 14,
     "metadata": {},
     "output_type": "execute_result"
    },
    {
     "data": {
      "image/png": "[encoded data removed]",
      "text/plain": [
       "<Figure size 720x432 with 1 Axes>"
      ]
     },
     "metadata": {},
     "output_type": "display_data"
    }
   ],
   "source": [
    "print('r2', r2_score(df_test2.label, df_test2.pred))\n",
    "df_result2.plot(figsize=(10,6))"
   ]
  },
  {
   "cell_type": "markdown",
   "metadata": {},
   "source": [
    "### モデル2の予測傾向\n",
    "- r2乗値は約0.84に増加して、全体としての予実差は改善された\n",
    "- 2013年の上振れ傾向は是正されているが、2012年がやや下振れした予測となった"
   ]
  },
  {
   "cell_type": "code",
   "execution_count": 15,
   "metadata": {},
   "outputs": [
    {
     "name": "stdout",
     "output_type": "stream",
     "text": [
      "model1:\n",
      "coefficient[ 1month_ago ]= 0.3592176685137094\n",
      "coefficient[ 2month_ago ]= -0.01080780950346598\n",
      "coefficient[ 3month_ago ]= -0.03741174129560228\n",
      "coefficient[ 12month_ago ]= 0.7893041838986542\n",
      "intercept =  [2.06498483]\n",
      "\n",
      "model2:\n",
      "coefficient[ 1month_ago ]= 0.22167201503077563\n",
      "coefficient[ 2month_ago ]= -0.09740090013135928\n",
      "coefficient[ 3month_ago ]= 0.15001683229497276\n",
      "coefficient[ 12month_ago ]= 0.5114870600083773\n",
      "coefficient[ month ]= 1.400423552419746\n",
      "coefficient[ year_delta ]= 1.7269189894876196\n",
      "intercept =  [5.52265153]\n"
     ]
    }
   ],
   "source": [
    "# モデルはどんなパラメーターが算出されたのか\n",
    "def WriteCoef(model, feature_cols):\n",
    "    [print('coefficient[', v, ']=', model.coef_[0][i]) for i, v in enumerate(feature_cols)]\n",
    "    print('intercept = ', model.intercept_)\n",
    "    \n",
    "print('model1:')\n",
    "WriteCoef(model1, feature_cols1)\n",
    "print()\n",
    "print('model2:')\n",
    "WriteCoef(model2, feature_cols2)"
   ]
  },
  {
   "cell_type": "markdown",
   "metadata": {},
   "source": [
    "#  <font color=\"MediumSlateBlue\">4. モデルを推論用に展開する</font>"
   ]
  },
  {
   "cell_type": "code",
   "execution_count": 16,
   "metadata": {},
   "outputs": [],
   "source": [
    "import sagemaker\n",
    "from sagemaker import get_execution_role\n",
    "\n",
    "# Sagemaker session object\n",
    "sagemaker_session = sagemaker.Session()\n",
    "\n",
    "# Sagemakerの実行ロールを取得\n",
    "role = get_execution_role()"
   ]
  },
  {
   "cell_type": "code",
   "execution_count": 17,
   "metadata": {},
   "outputs": [
    {
     "data": {
      "text/plain": [
       "['s3://sagemaker-us-east-1-497558320447/sagemaker-handson/monthly_sum/e7265ac3a27d4002b380da7d60861534.csv',\n",
       " 's3://sagemaker-us-east-1-497558320447/sagemaker-handson/monthly_sum/15b3c0a7d42c466d9e8b5d33bbdf1aca.csv',\n",
       " 's3://sagemaker-us-east-1-497558320447/sagemaker-handson/monthly_sum/16d4c67f23454dbead82c1f43b581999.csv',\n",
       " 's3://sagemaker-us-east-1-497558320447/sagemaker-handson/monthly_sum/b528df4f0b794ddeb127428c8da89077.csv']"
      ]
     },
     "execution_count": 17,
     "metadata": {},
     "output_type": "execute_result"
    }
   ],
   "source": [
    "# S3上のデータ出力先を定義\n",
    "default_bucket = sagemaker_session.default_bucket()\n",
    "s3_prefix = 'sagemaker-handson'\n",
    "s3_path = 's3://{}/{}/monthly_sum'.format(default_bucket, s3_prefix)\n",
    "\n",
    "# 事前に出力先のS3パスを掃除しておく\n",
    "session.s3.delete_objects(path=s3_path)\n",
    "\n",
    "out_cols = ['monthly_sum', '1month_ago', '2month_ago', '3month_ago', '12month_ago', 'month', 'year_delta']\n",
    "df_train_estimator = df_data[:train_test_split][out_cols]\n",
    "df_test_estimator = df_data[train_test_split:][out_cols]\n",
    "\n",
    "# Jupyter上で処理していたデータをS3にdumpする\n",
    "data_on_s3 = session.pandas.to_csv(dataframe=df_data, path=s3_path, preserve_index=False )\n",
    "data_on_s3"
   ]
  },
  {
   "cell_type": "code",
   "execution_count": 18,
   "metadata": {},
   "outputs": [],
   "source": [
    "from sagemaker.sklearn.estimator import SKLearn\n",
    "\n",
    "script_path = 'sklearn_monthly_sum.py'\n",
    "\n",
    "sklearn = SKLearn(\n",
    "    entry_point=script_path,\n",
    "    train_instance_type=\"local\",\n",
    "    role=role,\n",
    "    hyperparameters={'normalize': True})"
   ]
  },
  {
   "cell_type": "markdown",
   "metadata": {},
   "source": [
    "【参考】大量のデータを使用する重い学習に、学習用の別インスタンスを利用する場合は以下のように記述する\n",
    "```python\n",
    "from sagemaker.sklearn.estimator import SKLearn\n",
    "\n",
    "script_path = 'sklearn_monthly_sum.py'\n",
    "\n",
    "sklearn = SKLearn(\n",
    "    entry_point=script_path,\n",
    "    train_instance_type=\"ml.c4.xlarge\",\n",
    "    role=role,\n",
    "    sagemaker_session=sagemaker_session,\n",
    "    hyperparameters={'normalize': True})\n",
    "```"
   ]
  },
  {
   "cell_type": "code",
   "execution_count": 19,
   "metadata": {
    "scrolled": true
   },
   "outputs": [
    {
     "name": "stdout",
     "output_type": "stream",
     "text": [
      "Creating tmpctntumll_algo-1-3anue_1 ... \n",
      "\u001b[1BAttaching to tmpctntumll_algo-1-3anue_12mdone\u001b[0m\n",
      "\u001b[36malgo-1-3anue_1  |\u001b[0m 2019-12-03 12:24:56,970 sagemaker-containers INFO     Imported framework sagemaker_sklearn_container.training\n",
      "\u001b[36malgo-1-3anue_1  |\u001b[0m 2019-12-03 12:24:56,973 sagemaker-containers INFO     No GPUs detected (normal if no gpus installed)\n",
      "\u001b[36malgo-1-3anue_1  |\u001b[0m 2019-12-03 12:24:56,983 sagemaker_sklearn_container.training INFO     Invoking user training script.\n",
      "\u001b[36malgo-1-3anue_1  |\u001b[0m 2019-12-03 12:24:57,108 sagemaker-containers INFO     Module sklearn_monthly_sum does not provide a setup.py. \n",
      "\u001b[36malgo-1-3anue_1  |\u001b[0m Generating setup.py\n",
      "\u001b[36malgo-1-3anue_1  |\u001b[0m 2019-12-03 12:24:57,108 sagemaker-containers INFO     Generating setup.cfg\n",
      "\u001b[36malgo-1-3anue_1  |\u001b[0m 2019-12-03 12:24:57,108 sagemaker-containers INFO     Generating MANIFEST.in\n",
      "\u001b[36malgo-1-3anue_1  |\u001b[0m 2019-12-03 12:24:57,108 sagemaker-containers INFO     Installing module with the following command:\n",
      "\u001b[36malgo-1-3anue_1  |\u001b[0m /miniconda3/bin/python -m pip install . \n",
      "\u001b[36malgo-1-3anue_1  |\u001b[0m Processing /opt/ml/code\n",
      "\u001b[36malgo-1-3anue_1  |\u001b[0m Building wheels for collected packages: sklearn-monthly-sum\n",
      "\u001b[36malgo-1-3anue_1  |\u001b[0m   Building wheel for sklearn-monthly-sum (setup.py) ... \u001b[?25ldone\n",
      "\u001b[36malgo-1-3anue_1  |\u001b[0m \u001b[?25h  Created wheel for sklearn-monthly-sum: filename=sklearn_monthly_sum-1.0.0-py2.py3-none-any.whl size=7513 sha256=6f416e944ac1e13aca4b098d03bd33a944c9a6246165b86af6bbbb70c3c7d1a6\n",
      "\u001b[36malgo-1-3anue_1  |\u001b[0m   Stored in directory: /tmp/pip-ephem-wheel-cache-mv2f86u0/wheels/35/24/16/37574d11bf9bde50616c67372a334f94fa8356bc7164af8ca3\n",
      "\u001b[36malgo-1-3anue_1  |\u001b[0m Successfully built sklearn-monthly-sum\n",
      "\u001b[36malgo-1-3anue_1  |\u001b[0m Installing collected packages: sklearn-monthly-sum\n",
      "\u001b[36malgo-1-3anue_1  |\u001b[0m Successfully installed sklearn-monthly-sum-1.0.0\n",
      "\u001b[36malgo-1-3anue_1  |\u001b[0m 2019-12-03 12:24:58,202 sagemaker-containers INFO     No GPUs detected (normal if no gpus installed)\n",
      "\u001b[36malgo-1-3anue_1  |\u001b[0m 2019-12-03 12:24:58,212 sagemaker-containers INFO     Invoking user script\n",
      "\u001b[36malgo-1-3anue_1  |\u001b[0m \n",
      "\u001b[36malgo-1-3anue_1  |\u001b[0m Training Env:\n",
      "\u001b[36malgo-1-3anue_1  |\u001b[0m \n",
      "\u001b[36malgo-1-3anue_1  |\u001b[0m {\n",
      "\u001b[36malgo-1-3anue_1  |\u001b[0m     \"additional_framework_parameters\": {},\n",
      "\u001b[36malgo-1-3anue_1  |\u001b[0m     \"channel_input_dirs\": {\n",
      "\u001b[36malgo-1-3anue_1  |\u001b[0m         \"train\": \"/opt/ml/input/data/train\"\n",
      "\u001b[36malgo-1-3anue_1  |\u001b[0m     },\n",
      "\u001b[36malgo-1-3anue_1  |\u001b[0m     \"current_host\": \"algo-1-3anue\",\n",
      "\u001b[36malgo-1-3anue_1  |\u001b[0m     \"framework_module\": \"sagemaker_sklearn_container.training:main\",\n",
      "\u001b[36malgo-1-3anue_1  |\u001b[0m     \"hosts\": [\n",
      "\u001b[36malgo-1-3anue_1  |\u001b[0m         \"algo-1-3anue\"\n",
      "\u001b[36malgo-1-3anue_1  |\u001b[0m     ],\n",
      "\u001b[36malgo-1-3anue_1  |\u001b[0m     \"hyperparameters\": {\n",
      "\u001b[36malgo-1-3anue_1  |\u001b[0m         \"normalize\": true\n",
      "\u001b[36malgo-1-3anue_1  |\u001b[0m     },\n",
      "\u001b[36malgo-1-3anue_1  |\u001b[0m     \"input_config_dir\": \"/opt/ml/input/config\",\n",
      "\u001b[36malgo-1-3anue_1  |\u001b[0m     \"input_data_config\": {\n",
      "\u001b[36malgo-1-3anue_1  |\u001b[0m         \"train\": {\n",
      "\u001b[36malgo-1-3anue_1  |\u001b[0m             \"TrainingInputMode\": \"File\"\n",
      "\u001b[36malgo-1-3anue_1  |\u001b[0m         }\n",
      "\u001b[36malgo-1-3anue_1  |\u001b[0m     },\n",
      "\u001b[36malgo-1-3anue_1  |\u001b[0m     \"input_dir\": \"/opt/ml/input\",\n",
      "\u001b[36malgo-1-3anue_1  |\u001b[0m     \"is_master\": true,\n",
      "\u001b[36malgo-1-3anue_1  |\u001b[0m     \"job_name\": \"sagemaker-scikit-learn-2019-12-03-12-24-54-042\",\n",
      "\u001b[36malgo-1-3anue_1  |\u001b[0m     \"log_level\": 20,\n",
      "\u001b[36malgo-1-3anue_1  |\u001b[0m     \"master_hostname\": \"algo-1-3anue\",\n",
      "\u001b[36malgo-1-3anue_1  |\u001b[0m     \"model_dir\": \"/opt/ml/model\",\n",
      "\u001b[36malgo-1-3anue_1  |\u001b[0m     \"module_dir\": \"s3://sagemaker-us-east-1-497558320447/sagemaker-scikit-learn-2019-12-03-12-24-54-042/source/sourcedir.tar.gz\",\n",
      "\u001b[36malgo-1-3anue_1  |\u001b[0m     \"module_name\": \"sklearn_monthly_sum\",\n",
      "\u001b[36malgo-1-3anue_1  |\u001b[0m     \"network_interface_name\": \"eth0\",\n",
      "\u001b[36malgo-1-3anue_1  |\u001b[0m     \"num_cpus\": 4,\n",
      "\u001b[36malgo-1-3anue_1  |\u001b[0m     \"num_gpus\": 0,\n",
      "\u001b[36malgo-1-3anue_1  |\u001b[0m     \"output_data_dir\": \"/opt/ml/output/data\",\n",
      "\u001b[36malgo-1-3anue_1  |\u001b[0m     \"output_dir\": \"/opt/ml/output\",\n",
      "\u001b[36malgo-1-3anue_1  |\u001b[0m     \"output_intermediate_dir\": \"/opt/ml/output/intermediate\",\n",
      "\u001b[36malgo-1-3anue_1  |\u001b[0m     \"resource_config\": {\n",
      "\u001b[36malgo-1-3anue_1  |\u001b[0m         \"current_host\": \"algo-1-3anue\",\n",
      "\u001b[36malgo-1-3anue_1  |\u001b[0m         \"hosts\": [\n",
      "\u001b[36malgo-1-3anue_1  |\u001b[0m             \"algo-1-3anue\"\n",
      "\u001b[36malgo-1-3anue_1  |\u001b[0m         ]\n",
      "\u001b[36malgo-1-3anue_1  |\u001b[0m     },\n",
      "\u001b[36malgo-1-3anue_1  |\u001b[0m     \"user_entry_point\": \"sklearn_monthly_sum.py\"\n",
      "\u001b[36malgo-1-3anue_1  |\u001b[0m }\n",
      "\u001b[36malgo-1-3anue_1  |\u001b[0m \n",
      "\u001b[36malgo-1-3anue_1  |\u001b[0m Environment variables:\n",
      "\u001b[36malgo-1-3anue_1  |\u001b[0m \n",
      "\u001b[36malgo-1-3anue_1  |\u001b[0m SM_HOSTS=[\"algo-1-3anue\"]\n",
      "\u001b[36malgo-1-3anue_1  |\u001b[0m SM_NETWORK_INTERFACE_NAME=eth0\n",
      "\u001b[36malgo-1-3anue_1  |\u001b[0m SM_HPS={\"normalize\":true}\n",
      "\u001b[36malgo-1-3anue_1  |\u001b[0m SM_USER_ENTRY_POINT=sklearn_monthly_sum.py\n",
      "\u001b[36malgo-1-3anue_1  |\u001b[0m SM_FRAMEWORK_PARAMS={}\n",
      "\u001b[36malgo-1-3anue_1  |\u001b[0m SM_RESOURCE_CONFIG={\"current_host\":\"algo-1-3anue\",\"hosts\":[\"algo-1-3anue\"]}\n",
      "\u001b[36malgo-1-3anue_1  |\u001b[0m SM_INPUT_DATA_CONFIG={\"train\":{\"TrainingInputMode\":\"File\"}}\n",
      "\u001b[36malgo-1-3anue_1  |\u001b[0m SM_OUTPUT_DATA_DIR=/opt/ml/output/data\n",
      "\u001b[36malgo-1-3anue_1  |\u001b[0m SM_CHANNELS=[\"train\"]\n",
      "\u001b[36malgo-1-3anue_1  |\u001b[0m SM_CURRENT_HOST=algo-1-3anue\n",
      "\u001b[36malgo-1-3anue_1  |\u001b[0m SM_MODULE_NAME=sklearn_monthly_sum\n",
      "\u001b[36malgo-1-3anue_1  |\u001b[0m SM_LOG_LEVEL=20\n",
      "\u001b[36malgo-1-3anue_1  |\u001b[0m SM_FRAMEWORK_MODULE=sagemaker_sklearn_container.training:main\n",
      "\u001b[36malgo-1-3anue_1  |\u001b[0m SM_INPUT_DIR=/opt/ml/input\n",
      "\u001b[36malgo-1-3anue_1  |\u001b[0m SM_INPUT_CONFIG_DIR=/opt/ml/input/config\n",
      "\u001b[36malgo-1-3anue_1  |\u001b[0m SM_OUTPUT_DIR=/opt/ml/output\n",
      "\u001b[36malgo-1-3anue_1  |\u001b[0m SM_NUM_CPUS=4\n",
      "\u001b[36malgo-1-3anue_1  |\u001b[0m SM_NUM_GPUS=0\n",
      "\u001b[36malgo-1-3anue_1  |\u001b[0m SM_MODEL_DIR=/opt/ml/model\n",
      "\u001b[36malgo-1-3anue_1  |\u001b[0m SM_MODULE_DIR=s3://sagemaker-us-east-1-497558320447/sagemaker-scikit-learn-2019-12-03-12-24-54-042/source/sourcedir.tar.gz\n",
      "\u001b[36malgo-1-3anue_1  |\u001b[0m SM_TRAINING_ENV={\"additional_framework_parameters\":{},\"channel_input_dirs\":{\"train\":\"/opt/ml/input/data/train\"},\"current_host\":\"algo-1-3anue\",\"framework_module\":\"sagemaker_sklearn_container.training:main\",\"hosts\":[\"algo-1-3anue\"],\"hyperparameters\":{\"normalize\":true},\"input_config_dir\":\"/opt/ml/input/config\",\"input_data_config\":{\"train\":{\"TrainingInputMode\":\"File\"}},\"input_dir\":\"/opt/ml/input\",\"is_master\":true,\"job_name\":\"sagemaker-scikit-learn-2019-12-03-12-24-54-042\",\"log_level\":20,\"master_hostname\":\"algo-1-3anue\",\"model_dir\":\"/opt/ml/model\",\"module_dir\":\"s3://sagemaker-us-east-1-497558320447/sagemaker-scikit-learn-2019-12-03-12-24-54-042/source/sourcedir.tar.gz\",\"module_name\":\"sklearn_monthly_sum\",\"network_interface_name\":\"eth0\",\"num_cpus\":4,\"num_gpus\":0,\"output_data_dir\":\"/opt/ml/output/data\",\"output_dir\":\"/opt/ml/output\",\"output_intermediate_dir\":\"/opt/ml/output/intermediate\",\"resource_config\":{\"current_host\":\"algo-1-3anue\",\"hosts\":[\"algo-1-3anue\"]},\"user_entry_point\":\"sklearn_monthly_sum.py\"}\n",
      "\u001b[36malgo-1-3anue_1  |\u001b[0m SM_USER_ARGS=[\"--normalize\",\"True\"]\n",
      "\u001b[36malgo-1-3anue_1  |\u001b[0m SM_OUTPUT_INTERMEDIATE_DIR=/opt/ml/output/intermediate\n",
      "\u001b[36malgo-1-3anue_1  |\u001b[0m SM_CHANNEL_TRAIN=/opt/ml/input/data/train\n",
      "\u001b[36malgo-1-3anue_1  |\u001b[0m SM_HP_NORMALIZE=true\n",
      "\u001b[36malgo-1-3anue_1  |\u001b[0m PYTHONPATH=/miniconda3/bin:/miniconda3/lib/python37.zip:/miniconda3/lib/python3.7:/miniconda3/lib/python3.7/lib-dynload:/miniconda3/lib/python3.7/site-packages\n",
      "\u001b[36malgo-1-3anue_1  |\u001b[0m \n",
      "\u001b[36malgo-1-3anue_1  |\u001b[0m Invoking script with the following command:\n",
      "\u001b[36malgo-1-3anue_1  |\u001b[0m \n",
      "\u001b[36malgo-1-3anue_1  |\u001b[0m /miniconda3/bin/python -m sklearn_monthly_sum --normalize True\n",
      "\u001b[36malgo-1-3anue_1  |\u001b[0m \n",
      "\u001b[36malgo-1-3anue_1  |\u001b[0m \n",
      "\u001b[36malgo-1-3anue_1  |\u001b[0m /miniconda3/lib/python3.7/site-packages/sklearn/externals/joblib/externals/cloudpickle/cloudpickle.py:47: DeprecationWarning: the imp module is deprecated in favour of importlib; see the module's documentation for alternative uses\n",
      "\u001b[36malgo-1-3anue_1  |\u001b[0m   import imp\n",
      "\u001b[36malgo-1-3anue_1  |\u001b[0m 2019-12-03 12:24:58,938 sagemaker-containers INFO     Reporting training SUCCESS\n",
      "\u001b[36mtmpctntumll_algo-1-3anue_1 exited with code 0\n",
      "\u001b[0mAborting on container exit...\n"
     ]
    },
    {
     "name": "stdout",
     "output_type": "stream",
     "text": [
      "===== Job Complete =====\n"
     ]
    }
   ],
   "source": [
    "# S3に出力したデータを指定してモデルを学習させる\n",
    "sklearn.fit({'train': s3_path})"
   ]
  },
  {
   "cell_type": "code",
   "execution_count": 20,
   "metadata": {},
   "outputs": [
    {
     "name": "stdout",
     "output_type": "stream",
     "text": [
      "!"
     ]
    },
    {
     "name": "stderr",
     "output_type": "stream",
     "text": [
      "Exception in thread Thread-4:\n",
      "Traceback (most recent call last):\n",
      "  File \"/home/ec2-user/anaconda3/envs/python3/lib/python3.6/site-packages/sagemaker/local/image.py\", line 596, in run\n",
      "    _stream_output(self.process)\n",
      "  File \"/home/ec2-user/anaconda3/envs/python3/lib/python3.6/site-packages/sagemaker/local/image.py\", line 657, in _stream_output\n",
      "    raise RuntimeError(\"Process exited with code: %s\" % exit_code)\n",
      "RuntimeError: Process exited with code: 1\n",
      "\n",
      "During handling of the above exception, another exception occurred:\n",
      "\n",
      "Traceback (most recent call last):\n",
      "  File \"/home/ec2-user/anaconda3/envs/python3/lib/python3.6/threading.py\", line 916, in _bootstrap_inner\n",
      "    self.run()\n",
      "  File \"/home/ec2-user/anaconda3/envs/python3/lib/python3.6/site-packages/sagemaker/local/image.py\", line 601, in run\n",
      "    raise RuntimeError(msg)\n",
      "RuntimeError: Failed to run: ['docker-compose', '-f', '/tmp/tmpptc2j_x6/docker-compose.yaml', 'up', '--build', '--abort-on-container-exit'], Process exited with code: 1\n",
      "\n"
     ]
    }
   ],
   "source": [
    "# 学習が完了したので予測のためのpredictorを作成する\n",
    "predictor = sklearn.deploy(initial_instance_count=1, instance_type=\"local\")"
   ]
  },
  {
   "cell_type": "markdown",
   "metadata": {},
   "source": [
    "【参考】実運用に利用するEndpointをdeployする際はインスタンスタイプの記述を変更する\n",
    "```python\n",
    "predictor = sklearn.deploy(initial_instance_count=1, instance_type=\"ml.m4.xlarge\")\n",
    "```"
   ]
  },
  {
   "cell_type": "markdown",
   "metadata": {},
   "source": [
    "#  <font color=\"MediumSlateBlue\">5. endpointを使用してpredictionを行う</font>"
   ]
  },
  {
   "cell_type": "code",
   "execution_count": 22,
   "metadata": {},
   "outputs": [
    {
     "data": {
      "text/html": [
       "<div>\n",
       "<style scoped>\n",
       "    .dataframe tbody tr th:only-of-type {\n",
       "        vertical-align: middle;\n",
       "    }\n",
       "\n",
       "    .dataframe tbody tr th {\n",
       "        vertical-align: top;\n",
       "    }\n",
       "\n",
       "    .dataframe thead th {\n",
       "        text-align: right;\n",
       "    }\n",
       "</style>\n",
       "<table border=\"1\" class=\"dataframe\">\n",
       "  <thead>\n",
       "    <tr style=\"text-align: right;\">\n",
       "      <th></th>\n",
       "      <th>monthly_sum</th>\n",
       "      <th>1month_ago</th>\n",
       "      <th>2month_ago</th>\n",
       "      <th>3month_ago</th>\n",
       "      <th>12month_ago</th>\n",
       "      <th>month</th>\n",
       "      <th>year_delta</th>\n",
       "    </tr>\n",
       "    <tr>\n",
       "      <th>time_id</th>\n",
       "      <th></th>\n",
       "      <th></th>\n",
       "      <th></th>\n",
       "      <th></th>\n",
       "      <th></th>\n",
       "      <th></th>\n",
       "      <th></th>\n",
       "    </tr>\n",
       "  </thead>\n",
       "  <tbody>\n",
       "    <tr>\n",
       "      <th>2011-12-31</th>\n",
       "      <td>89.727830</td>\n",
       "      <td>89.950106</td>\n",
       "      <td>92.951907</td>\n",
       "      <td>70.769899</td>\n",
       "      <td>70.150479</td>\n",
       "      <td>12</td>\n",
       "      <td>3</td>\n",
       "    </tr>\n",
       "    <tr>\n",
       "      <th>2012-01-31</th>\n",
       "      <td>60.468286</td>\n",
       "      <td>89.727830</td>\n",
       "      <td>89.950106</td>\n",
       "      <td>92.951907</td>\n",
       "      <td>53.064402</td>\n",
       "      <td>1</td>\n",
       "      <td>4</td>\n",
       "    </tr>\n",
       "    <tr>\n",
       "      <th>2012-02-29</th>\n",
       "      <td>56.589682</td>\n",
       "      <td>60.468286</td>\n",
       "      <td>89.727830</td>\n",
       "      <td>89.950106</td>\n",
       "      <td>47.980545</td>\n",
       "      <td>2</td>\n",
       "      <td>4</td>\n",
       "    </tr>\n",
       "    <tr>\n",
       "      <th>2012-03-31</th>\n",
       "      <td>58.577287</td>\n",
       "      <td>56.589682</td>\n",
       "      <td>60.468286</td>\n",
       "      <td>89.727830</td>\n",
       "      <td>51.282577</td>\n",
       "      <td>3</td>\n",
       "      <td>4</td>\n",
       "    </tr>\n",
       "    <tr>\n",
       "      <th>2012-04-30</th>\n",
       "      <td>75.967463</td>\n",
       "      <td>58.577287</td>\n",
       "      <td>56.589682</td>\n",
       "      <td>60.468286</td>\n",
       "      <td>63.211591</td>\n",
       "      <td>4</td>\n",
       "      <td>4</td>\n",
       "    </tr>\n",
       "    <tr>\n",
       "      <th>2012-05-31</th>\n",
       "      <td>78.652050</td>\n",
       "      <td>75.967463</td>\n",
       "      <td>58.577287</td>\n",
       "      <td>56.589682</td>\n",
       "      <td>65.541814</td>\n",
       "      <td>5</td>\n",
       "      <td>4</td>\n",
       "    </tr>\n",
       "    <tr>\n",
       "      <th>2012-06-30</th>\n",
       "      <td>73.758302</td>\n",
       "      <td>78.652050</td>\n",
       "      <td>75.967463</td>\n",
       "      <td>58.577287</td>\n",
       "      <td>61.327811</td>\n",
       "      <td>6</td>\n",
       "      <td>4</td>\n",
       "    </tr>\n",
       "    <tr>\n",
       "      <th>2012-07-31</th>\n",
       "      <td>94.252176</td>\n",
       "      <td>73.758302</td>\n",
       "      <td>78.652050</td>\n",
       "      <td>75.967463</td>\n",
       "      <td>75.388245</td>\n",
       "      <td>7</td>\n",
       "      <td>4</td>\n",
       "    </tr>\n",
       "    <tr>\n",
       "      <th>2012-08-31</th>\n",
       "      <td>94.285501</td>\n",
       "      <td>94.252176</td>\n",
       "      <td>73.758302</td>\n",
       "      <td>78.652050</td>\n",
       "      <td>75.548115</td>\n",
       "      <td>8</td>\n",
       "      <td>4</td>\n",
       "    </tr>\n",
       "    <tr>\n",
       "      <th>2012-09-30</th>\n",
       "      <td>88.349355</td>\n",
       "      <td>94.285501</td>\n",
       "      <td>94.252176</td>\n",
       "      <td>73.758302</td>\n",
       "      <td>70.769899</td>\n",
       "      <td>9</td>\n",
       "      <td>4</td>\n",
       "    </tr>\n",
       "  </tbody>\n",
       "</table>\n",
       "</div>"
      ],
      "text/plain": [
       "            monthly_sum  1month_ago  2month_ago  3month_ago  12month_ago  \\\n",
       "time_id                                                                    \n",
       "2011-12-31    89.727830   89.950106   92.951907   70.769899    70.150479   \n",
       "2012-01-31    60.468286   89.727830   89.950106   92.951907    53.064402   \n",
       "2012-02-29    56.589682   60.468286   89.727830   89.950106    47.980545   \n",
       "2012-03-31    58.577287   56.589682   60.468286   89.727830    51.282577   \n",
       "2012-04-30    75.967463   58.577287   56.589682   60.468286    63.211591   \n",
       "2012-05-31    78.652050   75.967463   58.577287   56.589682    65.541814   \n",
       "2012-06-30    73.758302   78.652050   75.967463   58.577287    61.327811   \n",
       "2012-07-31    94.252176   73.758302   78.652050   75.967463    75.388245   \n",
       "2012-08-31    94.285501   94.252176   73.758302   78.652050    75.548115   \n",
       "2012-09-30    88.349355   94.285501   94.252176   73.758302    70.769899   \n",
       "\n",
       "            month  year_delta  \n",
       "time_id                        \n",
       "2011-12-31     12           3  \n",
       "2012-01-31      1           4  \n",
       "2012-02-29      2           4  \n",
       "2012-03-31      3           4  \n",
       "2012-04-30      4           4  \n",
       "2012-05-31      5           4  \n",
       "2012-06-30      6           4  \n",
       "2012-07-31      7           4  \n",
       "2012-08-31      8           4  \n",
       "2012-09-30      9           4  "
      ]
     },
     "execution_count": 22,
     "metadata": {},
     "output_type": "execute_result"
    }
   ],
   "source": [
    "df_test_estimator.head(10)"
   ]
  },
  {
   "cell_type": "code",
   "execution_count": 23,
   "metadata": {},
   "outputs": [],
   "source": [
    "# Estimatorに合わせたテストデータを作成する\n",
    "test_x = df_test_estimator.values[:,1:]\n",
    "test_y = df_test_estimator.values[:,0]"
   ]
  },
  {
   "cell_type": "code",
   "execution_count": 24,
   "metadata": {},
   "outputs": [],
   "source": [
    "pred = predictor.predict(test_x)\n",
    "df_test_result = pd.DataFrame({'label':test_y, 'pred':pred})"
   ]
  },
  {
   "cell_type": "code",
   "execution_count": 25,
   "metadata": {},
   "outputs": [
    {
     "data": {
      "text/plain": [
       "<matplotlib.axes._subplots.AxesSubplot at 0x7fa7ff071da0>"
      ]
     },
     "execution_count": 25,
     "metadata": {},
     "output_type": "execute_result"
    },
    {
     "data": {
      "image/png": "[encoded data removed]",
      "text/plain": [
       "<Figure size 432x288 with 1 Axes>"
      ]
     },
     "metadata": {},
     "output_type": "display_data"
    }
   ],
   "source": [
    "df_test_result.plot()"
   ]
  }
 ],
 "metadata": {
  "kernelspec": {
   "display_name": "conda_python3",
   "language": "python",
   "name": "conda_python3"
  },
  "language_info": {
   "codemirror_mode": {
    "name": "ipython",
    "version": 3
   },
   "file_extension": ".py",
   "mimetype": "text/x-python",
   "name": "python",
   "nbconvert_exporter": "python",
   "pygments_lexer": "ipython3",
   "version": "3.6.5"
  }
 },
 "nbformat": 4,
 "nbformat_minor": 2
}
